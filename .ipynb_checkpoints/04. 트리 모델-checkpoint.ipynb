{
 "cells": [
  {
   "cell_type": "code",
   "execution_count": 1,
   "metadata": {
    "executionInfo": {
     "elapsed": 2,
     "status": "ok",
     "timestamp": 1695624108121,
     "user": {
      "displayName": "SY Lee",
      "userId": "15634914583474319987"
     },
     "user_tz": -540
    },
    "id": "UZ9xYkciEG7r"
   },
   "outputs": [],
   "source": [
    "# 불필요한 경고 메시지 삭제\n",
    "import warnings\n",
    "warnings.filterwarnings('ignore')"
   ]
  },
  {
   "cell_type": "markdown",
   "metadata": {
    "id": "TednOTnaEmRA"
   },
   "source": [
    "# 데이터 불러오기"
   ]
  },
  {
   "cell_type": "code",
   "execution_count": 2,
   "metadata": {
    "executionInfo": {
     "elapsed": 814,
     "status": "ok",
     "timestamp": 1695624149263,
     "user": {
      "displayName": "SY Lee",
      "userId": "15634914583474319987"
     },
     "user_tz": -540
    },
    "id": "9zP6qS4oErA4"
   },
   "outputs": [],
   "source": [
    "from sklearn.datasets import load_iris\n",
    "from sklearn.model_selection import train_test_split\n",
    "\n",
    "iris_data = load_iris()\n",
    "\n",
    "X_train, X_test, y_train, y_test = train_test_split(\n",
    "  iris_data.data,\n",
    "  iris_data.target,\n",
    "  test_size=0.2,\n",
    "  random_state=11\n",
    ")"
   ]
  },
  {
   "cell_type": "markdown",
   "metadata": {
    "id": "sqcnNx2TEzIw"
   },
   "source": [
    "# 결정 트리 모델 생성"
   ]
  },
  {
   "cell_type": "code",
   "execution_count": 3,
   "metadata": {
    "colab": {
     "base_uri": "https://localhost:8080/",
     "height": 75
    },
    "executionInfo": {
     "elapsed": 862,
     "status": "ok",
     "timestamp": 1695624187175,
     "user": {
      "displayName": "SY Lee",
      "userId": "15634914583474319987"
     },
     "user_tz": -540
    },
    "id": "OdI5VENAE7n4",
    "outputId": "6853416e-bf84-4b12-cdc2-7c3196d5569e"
   },
   "outputs": [
    {
     "data": {
      "text/html": [
       "<style>#sk-container-id-1 {color: black;background-color: white;}#sk-container-id-1 pre{padding: 0;}#sk-container-id-1 div.sk-toggleable {background-color: white;}#sk-container-id-1 label.sk-toggleable__label {cursor: pointer;display: block;width: 100%;margin-bottom: 0;padding: 0.3em;box-sizing: border-box;text-align: center;}#sk-container-id-1 label.sk-toggleable__label-arrow:before {content: \"▸\";float: left;margin-right: 0.25em;color: #696969;}#sk-container-id-1 label.sk-toggleable__label-arrow:hover:before {color: black;}#sk-container-id-1 div.sk-estimator:hover label.sk-toggleable__label-arrow:before {color: black;}#sk-container-id-1 div.sk-toggleable__content {max-height: 0;max-width: 0;overflow: hidden;text-align: left;background-color: #f0f8ff;}#sk-container-id-1 div.sk-toggleable__content pre {margin: 0.2em;color: black;border-radius: 0.25em;background-color: #f0f8ff;}#sk-container-id-1 input.sk-toggleable__control:checked~div.sk-toggleable__content {max-height: 200px;max-width: 100%;overflow: auto;}#sk-container-id-1 input.sk-toggleable__control:checked~label.sk-toggleable__label-arrow:before {content: \"▾\";}#sk-container-id-1 div.sk-estimator input.sk-toggleable__control:checked~label.sk-toggleable__label {background-color: #d4ebff;}#sk-container-id-1 div.sk-label input.sk-toggleable__control:checked~label.sk-toggleable__label {background-color: #d4ebff;}#sk-container-id-1 input.sk-hidden--visually {border: 0;clip: rect(1px 1px 1px 1px);clip: rect(1px, 1px, 1px, 1px);height: 1px;margin: -1px;overflow: hidden;padding: 0;position: absolute;width: 1px;}#sk-container-id-1 div.sk-estimator {font-family: monospace;background-color: #f0f8ff;border: 1px dotted black;border-radius: 0.25em;box-sizing: border-box;margin-bottom: 0.5em;}#sk-container-id-1 div.sk-estimator:hover {background-color: #d4ebff;}#sk-container-id-1 div.sk-parallel-item::after {content: \"\";width: 100%;border-bottom: 1px solid gray;flex-grow: 1;}#sk-container-id-1 div.sk-label:hover label.sk-toggleable__label {background-color: #d4ebff;}#sk-container-id-1 div.sk-serial::before {content: \"\";position: absolute;border-left: 1px solid gray;box-sizing: border-box;top: 0;bottom: 0;left: 50%;z-index: 0;}#sk-container-id-1 div.sk-serial {display: flex;flex-direction: column;align-items: center;background-color: white;padding-right: 0.2em;padding-left: 0.2em;position: relative;}#sk-container-id-1 div.sk-item {position: relative;z-index: 1;}#sk-container-id-1 div.sk-parallel {display: flex;align-items: stretch;justify-content: center;background-color: white;position: relative;}#sk-container-id-1 div.sk-item::before, #sk-container-id-1 div.sk-parallel-item::before {content: \"\";position: absolute;border-left: 1px solid gray;box-sizing: border-box;top: 0;bottom: 0;left: 50%;z-index: -1;}#sk-container-id-1 div.sk-parallel-item {display: flex;flex-direction: column;z-index: 1;position: relative;background-color: white;}#sk-container-id-1 div.sk-parallel-item:first-child::after {align-self: flex-end;width: 50%;}#sk-container-id-1 div.sk-parallel-item:last-child::after {align-self: flex-start;width: 50%;}#sk-container-id-1 div.sk-parallel-item:only-child::after {width: 0;}#sk-container-id-1 div.sk-dashed-wrapped {border: 1px dashed gray;margin: 0 0.4em 0.5em 0.4em;box-sizing: border-box;padding-bottom: 0.4em;background-color: white;}#sk-container-id-1 div.sk-label label {font-family: monospace;font-weight: bold;display: inline-block;line-height: 1.2em;}#sk-container-id-1 div.sk-label-container {text-align: center;}#sk-container-id-1 div.sk-container {/* jupyter's `normalize.less` sets `[hidden] { display: none; }` but bootstrap.min.css set `[hidden] { display: none !important; }` so we also need the `!important` here to be able to override the default hidden behavior on the sphinx rendered scikit-learn.org. See: https://github.com/scikit-learn/scikit-learn/issues/21755 */display: inline-block !important;position: relative;}#sk-container-id-1 div.sk-text-repr-fallback {display: none;}</style><div id=\"sk-container-id-1\" class=\"sk-top-container\"><div class=\"sk-text-repr-fallback\"><pre>DecisionTreeClassifier()</pre><b>In a Jupyter environment, please rerun this cell to show the HTML representation or trust the notebook. <br />On GitHub, the HTML representation is unable to render, please try loading this page with nbviewer.org.</b></div><div class=\"sk-container\" hidden><div class=\"sk-item\"><div class=\"sk-estimator sk-toggleable\"><input class=\"sk-toggleable__control sk-hidden--visually\" id=\"sk-estimator-id-1\" type=\"checkbox\" checked><label for=\"sk-estimator-id-1\" class=\"sk-toggleable__label sk-toggleable__label-arrow\">DecisionTreeClassifier</label><div class=\"sk-toggleable__content\"><pre>DecisionTreeClassifier()</pre></div></div></div></div></div>"
      ],
      "text/plain": [
       "DecisionTreeClassifier()"
      ]
     },
     "execution_count": 3,
     "metadata": {},
     "output_type": "execute_result"
    }
   ],
   "source": [
    "from sklearn.tree import DecisionTreeClassifier\n",
    "\n",
    "dt_clf = DecisionTreeClassifier()\n",
    "\n",
    "dt_clf.fit(X_train, y_train)"
   ]
  },
  {
   "cell_type": "markdown",
   "metadata": {
    "id": "0u1siVeIE8Z4"
   },
   "source": [
    "# Graphviz 시각화\n",
    "- 트리 모델이 어떻게 훈련을 했는지를 시각화"
   ]
  },
  {
   "cell_type": "code",
   "execution_count": 4,
   "metadata": {
    "executionInfo": {
     "elapsed": 339,
     "status": "ok",
     "timestamp": 1695624450742,
     "user": {
      "displayName": "SY Lee",
      "userId": "15634914583474319987"
     },
     "user_tz": -540
    },
    "id": "ogcjPy19FUxg"
   },
   "outputs": [],
   "source": [
    "from sklearn.tree import export_graphviz\n",
    "\n",
    "export_graphviz(\n",
    "    dt_clf, # 시각화 할 모델\n",
    "    out_file = \"tree.dot\", # 시각화 결과물을 저장할 파일 경로\n",
    "    class_names = iris_data.target_names, # 문자열로 된 클래스들의 이름\n",
    "    feature_names = iris_data.feature_names, # 각 특성(feature)의 이름\n",
    "    impurity = True,\n",
    "    filled = True\n",
    ")"
   ]
  },
  {
   "cell_type": "code",
   "execution_count": 6,
   "metadata": {
    "colab": {
     "base_uri": "https://localhost:8080/",
     "height": 935
    },
    "executionInfo": {
     "elapsed": 4,
     "status": "ok",
     "timestamp": 1695624556961,
     "user": {
      "displayName": "SY Lee",
      "userId": "15634914583474319987"
     },
     "user_tz": -540
    },
    "id": "jqg6Q_GtF84A",
    "outputId": "dbfb8677-f8ca-482e-b22a-51dbe9a9f8d2"
   },
   "outputs": [
    {
     "data": {
      "image/svg+xml": [
       "<?xml version=\"1.0\" encoding=\"UTF-8\" standalone=\"no\"?>\n",
       "<!DOCTYPE svg PUBLIC \"-//W3C//DTD SVG 1.1//EN\"\n",
       " \"http://www.w3.org/Graphics/SVG/1.1/DTD/svg11.dtd\">\n",
       "<!-- Generated by graphviz version 2.43.0 (0)\n",
       " -->\n",
       "<!-- Title: Tree Pages: 1 -->\n",
       "<svg width=\"776pt\" height=\"671pt\"\n",
       " viewBox=\"0.00 0.00 776.00 671.00\" xmlns=\"http://www.w3.org/2000/svg\" xmlns:xlink=\"http://www.w3.org/1999/xlink\">\n",
       "<g id=\"graph0\" class=\"graph\" transform=\"scale(1 1) rotate(0) translate(4 667)\">\n",
       "<title>Tree</title>\n",
       "<polygon fill=\"white\" stroke=\"transparent\" points=\"-4,4 -4,-667 772,-667 772,4 -4,4\"/>\n",
       "<!-- 0 -->\n",
       "<g id=\"node1\" class=\"node\">\n",
       "<title>0</title>\n",
       "<polygon fill=\"#fffdfd\" stroke=\"black\" points=\"280,-663 125,-663 125,-580 280,-580 280,-663\"/>\n",
       "<text text-anchor=\"middle\" x=\"202.5\" y=\"-647.8\" font-family=\"Helvetica,sans-Serif\" font-size=\"14.00\">petal width (cm) &lt;= 0.8</text>\n",
       "<text text-anchor=\"middle\" x=\"202.5\" y=\"-632.8\" font-family=\"Helvetica,sans-Serif\" font-size=\"14.00\">gini = 0.667</text>\n",
       "<text text-anchor=\"middle\" x=\"202.5\" y=\"-617.8\" font-family=\"Helvetica,sans-Serif\" font-size=\"14.00\">samples = 120</text>\n",
       "<text text-anchor=\"middle\" x=\"202.5\" y=\"-602.8\" font-family=\"Helvetica,sans-Serif\" font-size=\"14.00\">value = [41, 40, 39]</text>\n",
       "<text text-anchor=\"middle\" x=\"202.5\" y=\"-587.8\" font-family=\"Helvetica,sans-Serif\" font-size=\"14.00\">class = setosa</text>\n",
       "</g>\n",
       "<!-- 1 -->\n",
       "<g id=\"node2\" class=\"node\">\n",
       "<title>1</title>\n",
       "<polygon fill=\"#e58139\" stroke=\"black\" points=\"182,-536.5 65,-536.5 65,-468.5 182,-468.5 182,-536.5\"/>\n",
       "<text text-anchor=\"middle\" x=\"123.5\" y=\"-521.3\" font-family=\"Helvetica,sans-Serif\" font-size=\"14.00\">gini = 0.0</text>\n",
       "<text text-anchor=\"middle\" x=\"123.5\" y=\"-506.3\" font-family=\"Helvetica,sans-Serif\" font-size=\"14.00\">samples = 41</text>\n",
       "<text text-anchor=\"middle\" x=\"123.5\" y=\"-491.3\" font-family=\"Helvetica,sans-Serif\" font-size=\"14.00\">value = [41, 0, 0]</text>\n",
       "<text text-anchor=\"middle\" x=\"123.5\" y=\"-476.3\" font-family=\"Helvetica,sans-Serif\" font-size=\"14.00\">class = setosa</text>\n",
       "</g>\n",
       "<!-- 0&#45;&gt;1 -->\n",
       "<g id=\"edge1\" class=\"edge\">\n",
       "<title>0&#45;&gt;1</title>\n",
       "<path fill=\"none\" stroke=\"black\" d=\"M175.09,-579.91C167.49,-568.65 159.23,-556.42 151.59,-545.11\"/>\n",
       "<polygon fill=\"black\" stroke=\"black\" points=\"154.39,-543 145.89,-536.67 148.59,-546.91 154.39,-543\"/>\n",
       "<text text-anchor=\"middle\" x=\"141.14\" y=\"-557.51\" font-family=\"Helvetica,sans-Serif\" font-size=\"14.00\">True</text>\n",
       "</g>\n",
       "<!-- 2 -->\n",
       "<g id=\"node3\" class=\"node\">\n",
       "<title>2</title>\n",
       "<polygon fill=\"#fafefc\" stroke=\"black\" points=\"363,-544 200,-544 200,-461 363,-461 363,-544\"/>\n",
       "<text text-anchor=\"middle\" x=\"281.5\" y=\"-528.8\" font-family=\"Helvetica,sans-Serif\" font-size=\"14.00\">petal width (cm) &lt;= 1.55</text>\n",
       "<text text-anchor=\"middle\" x=\"281.5\" y=\"-513.8\" font-family=\"Helvetica,sans-Serif\" font-size=\"14.00\">gini = 0.5</text>\n",
       "<text text-anchor=\"middle\" x=\"281.5\" y=\"-498.8\" font-family=\"Helvetica,sans-Serif\" font-size=\"14.00\">samples = 79</text>\n",
       "<text text-anchor=\"middle\" x=\"281.5\" y=\"-483.8\" font-family=\"Helvetica,sans-Serif\" font-size=\"14.00\">value = [0, 40, 39]</text>\n",
       "<text text-anchor=\"middle\" x=\"281.5\" y=\"-468.8\" font-family=\"Helvetica,sans-Serif\" font-size=\"14.00\">class = versicolor</text>\n",
       "</g>\n",
       "<!-- 0&#45;&gt;2 -->\n",
       "<g id=\"edge2\" class=\"edge\">\n",
       "<title>0&#45;&gt;2</title>\n",
       "<path fill=\"none\" stroke=\"black\" d=\"M229.91,-579.91C235.91,-571.01 242.33,-561.51 248.53,-552.33\"/>\n",
       "<polygon fill=\"black\" stroke=\"black\" points=\"251.44,-554.27 254.14,-544.02 245.64,-550.35 251.44,-554.27\"/>\n",
       "<text text-anchor=\"middle\" x=\"258.9\" y=\"-564.86\" font-family=\"Helvetica,sans-Serif\" font-size=\"14.00\">False</text>\n",
       "</g>\n",
       "<!-- 3 -->\n",
       "<g id=\"node4\" class=\"node\">\n",
       "<title>3</title>\n",
       "<polygon fill=\"#3ee684\" stroke=\"black\" points=\"273.5,-425 105.5,-425 105.5,-342 273.5,-342 273.5,-425\"/>\n",
       "<text text-anchor=\"middle\" x=\"189.5\" y=\"-409.8\" font-family=\"Helvetica,sans-Serif\" font-size=\"14.00\">petal length (cm) &lt;= 5.25</text>\n",
       "<text text-anchor=\"middle\" x=\"189.5\" y=\"-394.8\" font-family=\"Helvetica,sans-Serif\" font-size=\"14.00\">gini = 0.051</text>\n",
       "<text text-anchor=\"middle\" x=\"189.5\" y=\"-379.8\" font-family=\"Helvetica,sans-Serif\" font-size=\"14.00\">samples = 38</text>\n",
       "<text text-anchor=\"middle\" x=\"189.5\" y=\"-364.8\" font-family=\"Helvetica,sans-Serif\" font-size=\"14.00\">value = [0, 37, 1]</text>\n",
       "<text text-anchor=\"middle\" x=\"189.5\" y=\"-349.8\" font-family=\"Helvetica,sans-Serif\" font-size=\"14.00\">class = versicolor</text>\n",
       "</g>\n",
       "<!-- 2&#45;&gt;3 -->\n",
       "<g id=\"edge3\" class=\"edge\">\n",
       "<title>2&#45;&gt;3</title>\n",
       "<path fill=\"none\" stroke=\"black\" d=\"M249.58,-460.91C242.52,-451.92 234.96,-442.32 227.68,-433.05\"/>\n",
       "<polygon fill=\"black\" stroke=\"black\" points=\"230.3,-430.72 221.36,-425.02 224.79,-435.05 230.3,-430.72\"/>\n",
       "</g>\n",
       "<!-- 6 -->\n",
       "<g id=\"node7\" class=\"node\">\n",
       "<title>6</title>\n",
       "<polygon fill=\"#8b49e7\" stroke=\"black\" points=\"455,-425 292,-425 292,-342 455,-342 455,-425\"/>\n",
       "<text text-anchor=\"middle\" x=\"373.5\" y=\"-409.8\" font-family=\"Helvetica,sans-Serif\" font-size=\"14.00\">petal width (cm) &lt;= 1.75</text>\n",
       "<text text-anchor=\"middle\" x=\"373.5\" y=\"-394.8\" font-family=\"Helvetica,sans-Serif\" font-size=\"14.00\">gini = 0.136</text>\n",
       "<text text-anchor=\"middle\" x=\"373.5\" y=\"-379.8\" font-family=\"Helvetica,sans-Serif\" font-size=\"14.00\">samples = 41</text>\n",
       "<text text-anchor=\"middle\" x=\"373.5\" y=\"-364.8\" font-family=\"Helvetica,sans-Serif\" font-size=\"14.00\">value = [0, 3, 38]</text>\n",
       "<text text-anchor=\"middle\" x=\"373.5\" y=\"-349.8\" font-family=\"Helvetica,sans-Serif\" font-size=\"14.00\">class = virginica</text>\n",
       "</g>\n",
       "<!-- 2&#45;&gt;6 -->\n",
       "<g id=\"edge6\" class=\"edge\">\n",
       "<title>2&#45;&gt;6</title>\n",
       "<path fill=\"none\" stroke=\"black\" d=\"M313.42,-460.91C320.48,-451.92 328.04,-442.32 335.32,-433.05\"/>\n",
       "<polygon fill=\"black\" stroke=\"black\" points=\"338.21,-435.05 341.64,-425.02 332.7,-430.72 338.21,-435.05\"/>\n",
       "</g>\n",
       "<!-- 4 -->\n",
       "<g id=\"node5\" class=\"node\">\n",
       "<title>4</title>\n",
       "<polygon fill=\"#39e581\" stroke=\"black\" points=\"121,-298.5 0,-298.5 0,-230.5 121,-230.5 121,-298.5\"/>\n",
       "<text text-anchor=\"middle\" x=\"60.5\" y=\"-283.3\" font-family=\"Helvetica,sans-Serif\" font-size=\"14.00\">gini = 0.0</text>\n",
       "<text text-anchor=\"middle\" x=\"60.5\" y=\"-268.3\" font-family=\"Helvetica,sans-Serif\" font-size=\"14.00\">samples = 37</text>\n",
       "<text text-anchor=\"middle\" x=\"60.5\" y=\"-253.3\" font-family=\"Helvetica,sans-Serif\" font-size=\"14.00\">value = [0, 37, 0]</text>\n",
       "<text text-anchor=\"middle\" x=\"60.5\" y=\"-238.3\" font-family=\"Helvetica,sans-Serif\" font-size=\"14.00\">class = versicolor</text>\n",
       "</g>\n",
       "<!-- 3&#45;&gt;4 -->\n",
       "<g id=\"edge4\" class=\"edge\">\n",
       "<title>3&#45;&gt;4</title>\n",
       "<path fill=\"none\" stroke=\"black\" d=\"M144.74,-341.91C131.73,-330.1 117.52,-317.22 104.55,-305.45\"/>\n",
       "<polygon fill=\"black\" stroke=\"black\" points=\"106.83,-302.79 97.07,-298.67 102.12,-307.98 106.83,-302.79\"/>\n",
       "</g>\n",
       "<!-- 5 -->\n",
       "<g id=\"node6\" class=\"node\">\n",
       "<title>5</title>\n",
       "<polygon fill=\"#8139e5\" stroke=\"black\" points=\"252,-298.5 139,-298.5 139,-230.5 252,-230.5 252,-298.5\"/>\n",
       "<text text-anchor=\"middle\" x=\"195.5\" y=\"-283.3\" font-family=\"Helvetica,sans-Serif\" font-size=\"14.00\">gini = 0.0</text>\n",
       "<text text-anchor=\"middle\" x=\"195.5\" y=\"-268.3\" font-family=\"Helvetica,sans-Serif\" font-size=\"14.00\">samples = 1</text>\n",
       "<text text-anchor=\"middle\" x=\"195.5\" y=\"-253.3\" font-family=\"Helvetica,sans-Serif\" font-size=\"14.00\">value = [0, 0, 1]</text>\n",
       "<text text-anchor=\"middle\" x=\"195.5\" y=\"-238.3\" font-family=\"Helvetica,sans-Serif\" font-size=\"14.00\">class = virginica</text>\n",
       "</g>\n",
       "<!-- 3&#45;&gt;5 -->\n",
       "<g id=\"edge5\" class=\"edge\">\n",
       "<title>3&#45;&gt;5</title>\n",
       "<path fill=\"none\" stroke=\"black\" d=\"M191.58,-341.91C192.13,-331.2 192.72,-319.62 193.28,-308.78\"/>\n",
       "<polygon fill=\"black\" stroke=\"black\" points=\"196.78,-308.83 193.8,-298.67 189.79,-308.47 196.78,-308.83\"/>\n",
       "</g>\n",
       "<!-- 7 -->\n",
       "<g id=\"node8\" class=\"node\">\n",
       "<title>7</title>\n",
       "<polygon fill=\"#ffffff\" stroke=\"black\" points=\"453,-306 282,-306 282,-223 453,-223 453,-306\"/>\n",
       "<text text-anchor=\"middle\" x=\"367.5\" y=\"-290.8\" font-family=\"Helvetica,sans-Serif\" font-size=\"14.00\">sepal length (cm) &lt;= 5.45</text>\n",
       "<text text-anchor=\"middle\" x=\"367.5\" y=\"-275.8\" font-family=\"Helvetica,sans-Serif\" font-size=\"14.00\">gini = 0.5</text>\n",
       "<text text-anchor=\"middle\" x=\"367.5\" y=\"-260.8\" font-family=\"Helvetica,sans-Serif\" font-size=\"14.00\">samples = 4</text>\n",
       "<text text-anchor=\"middle\" x=\"367.5\" y=\"-245.8\" font-family=\"Helvetica,sans-Serif\" font-size=\"14.00\">value = [0, 2, 2]</text>\n",
       "<text text-anchor=\"middle\" x=\"367.5\" y=\"-230.8\" font-family=\"Helvetica,sans-Serif\" font-size=\"14.00\">class = versicolor</text>\n",
       "</g>\n",
       "<!-- 6&#45;&gt;7 -->\n",
       "<g id=\"edge7\" class=\"edge\">\n",
       "<title>6&#45;&gt;7</title>\n",
       "<path fill=\"none\" stroke=\"black\" d=\"M371.42,-341.91C370.99,-333.56 370.53,-324.67 370.09,-316.02\"/>\n",
       "<polygon fill=\"black\" stroke=\"black\" points=\"373.59,-315.83 369.58,-306.02 366.59,-316.19 373.59,-315.83\"/>\n",
       "</g>\n",
       "<!-- 12 -->\n",
       "<g id=\"node13\" class=\"node\">\n",
       "<title>12</title>\n",
       "<polygon fill=\"#843ee6\" stroke=\"black\" points=\"639.5,-306 471.5,-306 471.5,-223 639.5,-223 639.5,-306\"/>\n",
       "<text text-anchor=\"middle\" x=\"555.5\" y=\"-290.8\" font-family=\"Helvetica,sans-Serif\" font-size=\"14.00\">petal length (cm) &lt;= 4.85</text>\n",
       "<text text-anchor=\"middle\" x=\"555.5\" y=\"-275.8\" font-family=\"Helvetica,sans-Serif\" font-size=\"14.00\">gini = 0.053</text>\n",
       "<text text-anchor=\"middle\" x=\"555.5\" y=\"-260.8\" font-family=\"Helvetica,sans-Serif\" font-size=\"14.00\">samples = 37</text>\n",
       "<text text-anchor=\"middle\" x=\"555.5\" y=\"-245.8\" font-family=\"Helvetica,sans-Serif\" font-size=\"14.00\">value = [0, 1, 36]</text>\n",
       "<text text-anchor=\"middle\" x=\"555.5\" y=\"-230.8\" font-family=\"Helvetica,sans-Serif\" font-size=\"14.00\">class = virginica</text>\n",
       "</g>\n",
       "<!-- 6&#45;&gt;12 -->\n",
       "<g id=\"edge12\" class=\"edge\">\n",
       "<title>6&#45;&gt;12</title>\n",
       "<path fill=\"none\" stroke=\"black\" d=\"M436.64,-341.91C451.89,-332.11 468.29,-321.56 483.89,-311.53\"/>\n",
       "<polygon fill=\"black\" stroke=\"black\" points=\"485.95,-314.37 492.47,-306.02 482.16,-308.48 485.95,-314.37\"/>\n",
       "</g>\n",
       "<!-- 8 -->\n",
       "<g id=\"node9\" class=\"node\">\n",
       "<title>8</title>\n",
       "<polygon fill=\"#8139e5\" stroke=\"black\" points=\"268,-179.5 155,-179.5 155,-111.5 268,-111.5 268,-179.5\"/>\n",
       "<text text-anchor=\"middle\" x=\"211.5\" y=\"-164.3\" font-family=\"Helvetica,sans-Serif\" font-size=\"14.00\">gini = 0.0</text>\n",
       "<text text-anchor=\"middle\" x=\"211.5\" y=\"-149.3\" font-family=\"Helvetica,sans-Serif\" font-size=\"14.00\">samples = 1</text>\n",
       "<text text-anchor=\"middle\" x=\"211.5\" y=\"-134.3\" font-family=\"Helvetica,sans-Serif\" font-size=\"14.00\">value = [0, 0, 1]</text>\n",
       "<text text-anchor=\"middle\" x=\"211.5\" y=\"-119.3\" font-family=\"Helvetica,sans-Serif\" font-size=\"14.00\">class = virginica</text>\n",
       "</g>\n",
       "<!-- 7&#45;&gt;8 -->\n",
       "<g id=\"edge8\" class=\"edge\">\n",
       "<title>7&#45;&gt;8</title>\n",
       "<path fill=\"none\" stroke=\"black\" d=\"M313.38,-222.91C297.34,-210.88 279.81,-197.73 263.89,-185.79\"/>\n",
       "<polygon fill=\"black\" stroke=\"black\" points=\"265.82,-182.87 255.72,-179.67 261.62,-188.47 265.82,-182.87\"/>\n",
       "</g>\n",
       "<!-- 9 -->\n",
       "<g id=\"node10\" class=\"node\">\n",
       "<title>9</title>\n",
       "<polygon fill=\"#9cf2c0\" stroke=\"black\" points=\"454.5,-187 286.5,-187 286.5,-104 454.5,-104 454.5,-187\"/>\n",
       "<text text-anchor=\"middle\" x=\"370.5\" y=\"-171.8\" font-family=\"Helvetica,sans-Serif\" font-size=\"14.00\">petal length (cm) &lt;= 5.45</text>\n",
       "<text text-anchor=\"middle\" x=\"370.5\" y=\"-156.8\" font-family=\"Helvetica,sans-Serif\" font-size=\"14.00\">gini = 0.444</text>\n",
       "<text text-anchor=\"middle\" x=\"370.5\" y=\"-141.8\" font-family=\"Helvetica,sans-Serif\" font-size=\"14.00\">samples = 3</text>\n",
       "<text text-anchor=\"middle\" x=\"370.5\" y=\"-126.8\" font-family=\"Helvetica,sans-Serif\" font-size=\"14.00\">value = [0, 2, 1]</text>\n",
       "<text text-anchor=\"middle\" x=\"370.5\" y=\"-111.8\" font-family=\"Helvetica,sans-Serif\" font-size=\"14.00\">class = versicolor</text>\n",
       "</g>\n",
       "<!-- 7&#45;&gt;9 -->\n",
       "<g id=\"edge9\" class=\"edge\">\n",
       "<title>7&#45;&gt;9</title>\n",
       "<path fill=\"none\" stroke=\"black\" d=\"M368.54,-222.91C368.75,-214.56 368.98,-205.67 369.2,-197.02\"/>\n",
       "<polygon fill=\"black\" stroke=\"black\" points=\"372.7,-197.11 369.46,-187.02 365.71,-196.93 372.7,-197.11\"/>\n",
       "</g>\n",
       "<!-- 10 -->\n",
       "<g id=\"node11\" class=\"node\">\n",
       "<title>10</title>\n",
       "<polygon fill=\"#39e581\" stroke=\"black\" points=\"309,-68 188,-68 188,0 309,0 309,-68\"/>\n",
       "<text text-anchor=\"middle\" x=\"248.5\" y=\"-52.8\" font-family=\"Helvetica,sans-Serif\" font-size=\"14.00\">gini = 0.0</text>\n",
       "<text text-anchor=\"middle\" x=\"248.5\" y=\"-37.8\" font-family=\"Helvetica,sans-Serif\" font-size=\"14.00\">samples = 2</text>\n",
       "<text text-anchor=\"middle\" x=\"248.5\" y=\"-22.8\" font-family=\"Helvetica,sans-Serif\" font-size=\"14.00\">value = [0, 2, 0]</text>\n",
       "<text text-anchor=\"middle\" x=\"248.5\" y=\"-7.8\" font-family=\"Helvetica,sans-Serif\" font-size=\"14.00\">class = versicolor</text>\n",
       "</g>\n",
       "<!-- 9&#45;&gt;10 -->\n",
       "<g id=\"edge10\" class=\"edge\">\n",
       "<title>9&#45;&gt;10</title>\n",
       "<path fill=\"none\" stroke=\"black\" d=\"M325.07,-103.73C314.6,-94.33 303.48,-84.35 293.05,-74.99\"/>\n",
       "<polygon fill=\"black\" stroke=\"black\" points=\"295.38,-72.37 285.6,-68.3 290.71,-77.58 295.38,-72.37\"/>\n",
       "</g>\n",
       "<!-- 11 -->\n",
       "<g id=\"node12\" class=\"node\">\n",
       "<title>11</title>\n",
       "<polygon fill=\"#8139e5\" stroke=\"black\" points=\"440,-68 327,-68 327,0 440,0 440,-68\"/>\n",
       "<text text-anchor=\"middle\" x=\"383.5\" y=\"-52.8\" font-family=\"Helvetica,sans-Serif\" font-size=\"14.00\">gini = 0.0</text>\n",
       "<text text-anchor=\"middle\" x=\"383.5\" y=\"-37.8\" font-family=\"Helvetica,sans-Serif\" font-size=\"14.00\">samples = 1</text>\n",
       "<text text-anchor=\"middle\" x=\"383.5\" y=\"-22.8\" font-family=\"Helvetica,sans-Serif\" font-size=\"14.00\">value = [0, 0, 1]</text>\n",
       "<text text-anchor=\"middle\" x=\"383.5\" y=\"-7.8\" font-family=\"Helvetica,sans-Serif\" font-size=\"14.00\">class = virginica</text>\n",
       "</g>\n",
       "<!-- 9&#45;&gt;11 -->\n",
       "<g id=\"edge11\" class=\"edge\">\n",
       "<title>9&#45;&gt;11</title>\n",
       "<path fill=\"none\" stroke=\"black\" d=\"M375.34,-103.73C376.33,-95.43 377.37,-86.67 378.36,-78.28\"/>\n",
       "<polygon fill=\"black\" stroke=\"black\" points=\"381.84,-78.64 379.55,-68.3 374.89,-77.82 381.84,-78.64\"/>\n",
       "</g>\n",
       "<!-- 13 -->\n",
       "<g id=\"node14\" class=\"node\">\n",
       "<title>13</title>\n",
       "<polygon fill=\"#c09cf2\" stroke=\"black\" points=\"632.5,-187 474.5,-187 474.5,-104 632.5,-104 632.5,-187\"/>\n",
       "<text text-anchor=\"middle\" x=\"553.5\" y=\"-171.8\" font-family=\"Helvetica,sans-Serif\" font-size=\"14.00\">sepal width (cm) &lt;= 3.1</text>\n",
       "<text text-anchor=\"middle\" x=\"553.5\" y=\"-156.8\" font-family=\"Helvetica,sans-Serif\" font-size=\"14.00\">gini = 0.444</text>\n",
       "<text text-anchor=\"middle\" x=\"553.5\" y=\"-141.8\" font-family=\"Helvetica,sans-Serif\" font-size=\"14.00\">samples = 3</text>\n",
       "<text text-anchor=\"middle\" x=\"553.5\" y=\"-126.8\" font-family=\"Helvetica,sans-Serif\" font-size=\"14.00\">value = [0, 1, 2]</text>\n",
       "<text text-anchor=\"middle\" x=\"553.5\" y=\"-111.8\" font-family=\"Helvetica,sans-Serif\" font-size=\"14.00\">class = virginica</text>\n",
       "</g>\n",
       "<!-- 12&#45;&gt;13 -->\n",
       "<g id=\"edge13\" class=\"edge\">\n",
       "<title>12&#45;&gt;13</title>\n",
       "<path fill=\"none\" stroke=\"black\" d=\"M554.81,-222.91C554.66,-214.56 554.51,-205.67 554.36,-197.02\"/>\n",
       "<polygon fill=\"black\" stroke=\"black\" points=\"557.86,-196.96 554.19,-187.02 550.86,-197.08 557.86,-196.96\"/>\n",
       "</g>\n",
       "<!-- 16 -->\n",
       "<g id=\"node17\" class=\"node\">\n",
       "<title>16</title>\n",
       "<polygon fill=\"#8139e5\" stroke=\"black\" points=\"768,-179.5 651,-179.5 651,-111.5 768,-111.5 768,-179.5\"/>\n",
       "<text text-anchor=\"middle\" x=\"709.5\" y=\"-164.3\" font-family=\"Helvetica,sans-Serif\" font-size=\"14.00\">gini = 0.0</text>\n",
       "<text text-anchor=\"middle\" x=\"709.5\" y=\"-149.3\" font-family=\"Helvetica,sans-Serif\" font-size=\"14.00\">samples = 34</text>\n",
       "<text text-anchor=\"middle\" x=\"709.5\" y=\"-134.3\" font-family=\"Helvetica,sans-Serif\" font-size=\"14.00\">value = [0, 0, 34]</text>\n",
       "<text text-anchor=\"middle\" x=\"709.5\" y=\"-119.3\" font-family=\"Helvetica,sans-Serif\" font-size=\"14.00\">class = virginica</text>\n",
       "</g>\n",
       "<!-- 12&#45;&gt;16 -->\n",
       "<g id=\"edge16\" class=\"edge\">\n",
       "<title>12&#45;&gt;16</title>\n",
       "<path fill=\"none\" stroke=\"black\" d=\"M608.93,-222.91C624.76,-210.88 642.06,-197.73 657.78,-185.79\"/>\n",
       "<polygon fill=\"black\" stroke=\"black\" points=\"660,-188.5 665.84,-179.67 655.76,-182.93 660,-188.5\"/>\n",
       "</g>\n",
       "<!-- 14 -->\n",
       "<g id=\"node15\" class=\"node\">\n",
       "<title>14</title>\n",
       "<polygon fill=\"#8139e5\" stroke=\"black\" points=\"599,-68 486,-68 486,0 599,0 599,-68\"/>\n",
       "<text text-anchor=\"middle\" x=\"542.5\" y=\"-52.8\" font-family=\"Helvetica,sans-Serif\" font-size=\"14.00\">gini = 0.0</text>\n",
       "<text text-anchor=\"middle\" x=\"542.5\" y=\"-37.8\" font-family=\"Helvetica,sans-Serif\" font-size=\"14.00\">samples = 2</text>\n",
       "<text text-anchor=\"middle\" x=\"542.5\" y=\"-22.8\" font-family=\"Helvetica,sans-Serif\" font-size=\"14.00\">value = [0, 0, 2]</text>\n",
       "<text text-anchor=\"middle\" x=\"542.5\" y=\"-7.8\" font-family=\"Helvetica,sans-Serif\" font-size=\"14.00\">class = virginica</text>\n",
       "</g>\n",
       "<!-- 13&#45;&gt;14 -->\n",
       "<g id=\"edge14\" class=\"edge\">\n",
       "<title>13&#45;&gt;14</title>\n",
       "<path fill=\"none\" stroke=\"black\" d=\"M549.4,-103.73C548.57,-95.43 547.69,-86.67 546.85,-78.28\"/>\n",
       "<polygon fill=\"black\" stroke=\"black\" points=\"550.33,-77.9 545.85,-68.3 543.36,-78.6 550.33,-77.9\"/>\n",
       "</g>\n",
       "<!-- 15 -->\n",
       "<g id=\"node16\" class=\"node\">\n",
       "<title>15</title>\n",
       "<polygon fill=\"#39e581\" stroke=\"black\" points=\"738,-68 617,-68 617,0 738,0 738,-68\"/>\n",
       "<text text-anchor=\"middle\" x=\"677.5\" y=\"-52.8\" font-family=\"Helvetica,sans-Serif\" font-size=\"14.00\">gini = 0.0</text>\n",
       "<text text-anchor=\"middle\" x=\"677.5\" y=\"-37.8\" font-family=\"Helvetica,sans-Serif\" font-size=\"14.00\">samples = 1</text>\n",
       "<text text-anchor=\"middle\" x=\"677.5\" y=\"-22.8\" font-family=\"Helvetica,sans-Serif\" font-size=\"14.00\">value = [0, 1, 0]</text>\n",
       "<text text-anchor=\"middle\" x=\"677.5\" y=\"-7.8\" font-family=\"Helvetica,sans-Serif\" font-size=\"14.00\">class = versicolor</text>\n",
       "</g>\n",
       "<!-- 13&#45;&gt;15 -->\n",
       "<g id=\"edge15\" class=\"edge\">\n",
       "<title>13&#45;&gt;15</title>\n",
       "<path fill=\"none\" stroke=\"black\" d=\"M599.67,-103.73C610.31,-94.33 621.62,-84.35 632.22,-74.99\"/>\n",
       "<polygon fill=\"black\" stroke=\"black\" points=\"634.61,-77.54 639.79,-68.3 629.98,-72.3 634.61,-77.54\"/>\n",
       "</g>\n",
       "</g>\n",
       "</svg>\n"
      ],
      "text/plain": [
       "<graphviz.sources.Source at 0x7aabca2a0610>"
      ]
     },
     "execution_count": 6,
     "metadata": {},
     "output_type": "execute_result"
    }
   ],
   "source": [
    "import graphviz\n",
    "\n",
    "with open('tree.dot') as f:\n",
    "  dot_graph = f.read()\n",
    "\n",
    "graphviz.Source(dot_graph)"
   ]
  },
  {
   "cell_type": "markdown",
   "metadata": {
    "id": "cWAagL4zGUoW"
   },
   "source": [
    "# 정확도 확인"
   ]
  },
  {
   "cell_type": "code",
   "execution_count": 7,
   "metadata": {
    "colab": {
     "base_uri": "https://localhost:8080/"
    },
    "executionInfo": {
     "elapsed": 320,
     "status": "ok",
     "timestamp": 1695626500584,
     "user": {
      "displayName": "SY Lee",
      "userId": "15634914583474319987"
     },
     "user_tz": -540
    },
    "id": "-oKK6AJENeKY",
    "outputId": "14f785ce-8a86-428a-968f-919af77496a9"
   },
   "outputs": [
    {
     "name": "stdout",
     "output_type": "stream",
     "text": [
      "훈련 세트에 대한 점수 : 1.000\n",
      "테스트 세트에 대한 점수 : 0.933\n"
     ]
    }
   ],
   "source": [
    "from sklearn.metrics import accuracy_score\n",
    "\n",
    "train_pred = dt_clf.predict(X_train) # 알고 있는 데이터에 대한 예측\n",
    "test_pred  = dt_clf.predict(X_test)  # 새로 보는 데이터에 대한 예측\n",
    "\n",
    "print(\"훈련 세트에 대한 점수 : {:.3f}\".format(accuracy_score(y_train, train_pred)))\n",
    "print(\"테스트 세트에 대한 점수 : {:.3f}\".format(accuracy_score(y_test, test_pred)))"
   ]
  },
  {
   "cell_type": "markdown",
   "metadata": {
    "id": "UjgIY5b4NxVg"
   },
   "source": [
    "## max_depth를 이용한 질문의 깊이 제어"
   ]
  },
  {
   "cell_type": "code",
   "execution_count": 8,
   "metadata": {
    "executionInfo": {
     "elapsed": 3,
     "status": "ok",
     "timestamp": 1695626689642,
     "user": {
      "displayName": "SY Lee",
      "userId": "15634914583474319987"
     },
     "user_tz": -540
    },
    "id": "HHi7GhD0ONTJ"
   },
   "outputs": [],
   "source": [
    "dt_clf_depth_2 = DecisionTreeClassifier(max_depth=2).fit(X_train, y_train)"
   ]
  },
  {
   "cell_type": "code",
   "execution_count": 9,
   "metadata": {
    "colab": {
     "base_uri": "https://localhost:8080/",
     "height": 439
    },
    "executionInfo": {
     "elapsed": 517,
     "status": "ok",
     "timestamp": 1695626737503,
     "user": {
      "displayName": "SY Lee",
      "userId": "15634914583474319987"
     },
     "user_tz": -540
    },
    "id": "ZXJRGnPrOafL",
    "outputId": "bb89be60-eb6e-44af-f99b-80fc07d730b7"
   },
   "outputs": [
    {
     "data": {
      "image/svg+xml": [
       "<?xml version=\"1.0\" encoding=\"UTF-8\" standalone=\"no\"?>\n",
       "<!DOCTYPE svg PUBLIC \"-//W3C//DTD SVG 1.1//EN\"\n",
       " \"http://www.w3.org/Graphics/SVG/1.1/DTD/svg11.dtd\">\n",
       "<!-- Generated by graphviz version 2.43.0 (0)\n",
       " -->\n",
       "<!-- Title: Tree Pages: 1 -->\n",
       "<svg width=\"351pt\" height=\"314pt\"\n",
       " viewBox=\"0.00 0.00 351.00 314.00\" xmlns=\"http://www.w3.org/2000/svg\" xmlns:xlink=\"http://www.w3.org/1999/xlink\">\n",
       "<g id=\"graph0\" class=\"graph\" transform=\"scale(1 1) rotate(0) translate(4 310)\">\n",
       "<title>Tree</title>\n",
       "<polygon fill=\"white\" stroke=\"transparent\" points=\"-4,4 -4,-310 347,-310 347,4 -4,4\"/>\n",
       "<!-- 0 -->\n",
       "<g id=\"node1\" class=\"node\">\n",
       "<title>0</title>\n",
       "<polygon fill=\"#fffdfd\" stroke=\"black\" points=\"215,-306 60,-306 60,-223 215,-223 215,-306\"/>\n",
       "<text text-anchor=\"middle\" x=\"137.5\" y=\"-290.8\" font-family=\"Helvetica,sans-Serif\" font-size=\"14.00\">petal width (cm) &lt;= 0.8</text>\n",
       "<text text-anchor=\"middle\" x=\"137.5\" y=\"-275.8\" font-family=\"Helvetica,sans-Serif\" font-size=\"14.00\">gini = 0.667</text>\n",
       "<text text-anchor=\"middle\" x=\"137.5\" y=\"-260.8\" font-family=\"Helvetica,sans-Serif\" font-size=\"14.00\">samples = 120</text>\n",
       "<text text-anchor=\"middle\" x=\"137.5\" y=\"-245.8\" font-family=\"Helvetica,sans-Serif\" font-size=\"14.00\">value = [41, 40, 39]</text>\n",
       "<text text-anchor=\"middle\" x=\"137.5\" y=\"-230.8\" font-family=\"Helvetica,sans-Serif\" font-size=\"14.00\">class = setosa</text>\n",
       "</g>\n",
       "<!-- 1 -->\n",
       "<g id=\"node2\" class=\"node\">\n",
       "<title>1</title>\n",
       "<polygon fill=\"#e58139\" stroke=\"black\" points=\"117,-179.5 0,-179.5 0,-111.5 117,-111.5 117,-179.5\"/>\n",
       "<text text-anchor=\"middle\" x=\"58.5\" y=\"-164.3\" font-family=\"Helvetica,sans-Serif\" font-size=\"14.00\">gini = 0.0</text>\n",
       "<text text-anchor=\"middle\" x=\"58.5\" y=\"-149.3\" font-family=\"Helvetica,sans-Serif\" font-size=\"14.00\">samples = 41</text>\n",
       "<text text-anchor=\"middle\" x=\"58.5\" y=\"-134.3\" font-family=\"Helvetica,sans-Serif\" font-size=\"14.00\">value = [41, 0, 0]</text>\n",
       "<text text-anchor=\"middle\" x=\"58.5\" y=\"-119.3\" font-family=\"Helvetica,sans-Serif\" font-size=\"14.00\">class = setosa</text>\n",
       "</g>\n",
       "<!-- 0&#45;&gt;1 -->\n",
       "<g id=\"edge1\" class=\"edge\">\n",
       "<title>0&#45;&gt;1</title>\n",
       "<path fill=\"none\" stroke=\"black\" d=\"M110.09,-222.91C102.49,-211.65 94.23,-199.42 86.59,-188.11\"/>\n",
       "<polygon fill=\"black\" stroke=\"black\" points=\"89.39,-186 80.89,-179.67 83.59,-189.91 89.39,-186\"/>\n",
       "<text text-anchor=\"middle\" x=\"76.14\" y=\"-200.51\" font-family=\"Helvetica,sans-Serif\" font-size=\"14.00\">True</text>\n",
       "</g>\n",
       "<!-- 2 -->\n",
       "<g id=\"node3\" class=\"node\">\n",
       "<title>2</title>\n",
       "<polygon fill=\"#fafefc\" stroke=\"black\" points=\"298,-187 135,-187 135,-104 298,-104 298,-187\"/>\n",
       "<text text-anchor=\"middle\" x=\"216.5\" y=\"-171.8\" font-family=\"Helvetica,sans-Serif\" font-size=\"14.00\">petal width (cm) &lt;= 1.55</text>\n",
       "<text text-anchor=\"middle\" x=\"216.5\" y=\"-156.8\" font-family=\"Helvetica,sans-Serif\" font-size=\"14.00\">gini = 0.5</text>\n",
       "<text text-anchor=\"middle\" x=\"216.5\" y=\"-141.8\" font-family=\"Helvetica,sans-Serif\" font-size=\"14.00\">samples = 79</text>\n",
       "<text text-anchor=\"middle\" x=\"216.5\" y=\"-126.8\" font-family=\"Helvetica,sans-Serif\" font-size=\"14.00\">value = [0, 40, 39]</text>\n",
       "<text text-anchor=\"middle\" x=\"216.5\" y=\"-111.8\" font-family=\"Helvetica,sans-Serif\" font-size=\"14.00\">class = versicolor</text>\n",
       "</g>\n",
       "<!-- 0&#45;&gt;2 -->\n",
       "<g id=\"edge2\" class=\"edge\">\n",
       "<title>0&#45;&gt;2</title>\n",
       "<path fill=\"none\" stroke=\"black\" d=\"M164.91,-222.91C170.91,-214.01 177.33,-204.51 183.53,-195.33\"/>\n",
       "<polygon fill=\"black\" stroke=\"black\" points=\"186.44,-197.27 189.14,-187.02 180.64,-193.35 186.44,-197.27\"/>\n",
       "<text text-anchor=\"middle\" x=\"193.9\" y=\"-207.86\" font-family=\"Helvetica,sans-Serif\" font-size=\"14.00\">False</text>\n",
       "</g>\n",
       "<!-- 3 -->\n",
       "<g id=\"node4\" class=\"node\">\n",
       "<title>3</title>\n",
       "<polygon fill=\"#3ee684\" stroke=\"black\" points=\"208,-68 87,-68 87,0 208,0 208,-68\"/>\n",
       "<text text-anchor=\"middle\" x=\"147.5\" y=\"-52.8\" font-family=\"Helvetica,sans-Serif\" font-size=\"14.00\">gini = 0.051</text>\n",
       "<text text-anchor=\"middle\" x=\"147.5\" y=\"-37.8\" font-family=\"Helvetica,sans-Serif\" font-size=\"14.00\">samples = 38</text>\n",
       "<text text-anchor=\"middle\" x=\"147.5\" y=\"-22.8\" font-family=\"Helvetica,sans-Serif\" font-size=\"14.00\">value = [0, 37, 1]</text>\n",
       "<text text-anchor=\"middle\" x=\"147.5\" y=\"-7.8\" font-family=\"Helvetica,sans-Serif\" font-size=\"14.00\">class = versicolor</text>\n",
       "</g>\n",
       "<!-- 2&#45;&gt;3 -->\n",
       "<g id=\"edge3\" class=\"edge\">\n",
       "<title>2&#45;&gt;3</title>\n",
       "<path fill=\"none\" stroke=\"black\" d=\"M190.81,-103.73C185.29,-94.97 179.45,-85.7 173.91,-76.91\"/>\n",
       "<polygon fill=\"black\" stroke=\"black\" points=\"176.78,-74.89 168.48,-68.3 170.85,-78.63 176.78,-74.89\"/>\n",
       "</g>\n",
       "<!-- 4 -->\n",
       "<g id=\"node5\" class=\"node\">\n",
       "<title>4</title>\n",
       "<polygon fill=\"#8b49e7\" stroke=\"black\" points=\"343,-68 226,-68 226,0 343,0 343,-68\"/>\n",
       "<text text-anchor=\"middle\" x=\"284.5\" y=\"-52.8\" font-family=\"Helvetica,sans-Serif\" font-size=\"14.00\">gini = 0.136</text>\n",
       "<text text-anchor=\"middle\" x=\"284.5\" y=\"-37.8\" font-family=\"Helvetica,sans-Serif\" font-size=\"14.00\">samples = 41</text>\n",
       "<text text-anchor=\"middle\" x=\"284.5\" y=\"-22.8\" font-family=\"Helvetica,sans-Serif\" font-size=\"14.00\">value = [0, 3, 38]</text>\n",
       "<text text-anchor=\"middle\" x=\"284.5\" y=\"-7.8\" font-family=\"Helvetica,sans-Serif\" font-size=\"14.00\">class = virginica</text>\n",
       "</g>\n",
       "<!-- 2&#45;&gt;4 -->\n",
       "<g id=\"edge4\" class=\"edge\">\n",
       "<title>2&#45;&gt;4</title>\n",
       "<path fill=\"none\" stroke=\"black\" d=\"M241.82,-103.73C247.26,-94.97 253.01,-85.7 258.48,-76.91\"/>\n",
       "<polygon fill=\"black\" stroke=\"black\" points=\"261.52,-78.64 263.82,-68.3 255.57,-74.95 261.52,-78.64\"/>\n",
       "</g>\n",
       "</g>\n",
       "</svg>\n"
      ],
      "text/plain": [
       "<graphviz.sources.Source at 0x7aabca29df00>"
      ]
     },
     "execution_count": 9,
     "metadata": {},
     "output_type": "execute_result"
    }
   ],
   "source": [
    "export_graphviz(\n",
    "    dt_clf_depth_2, # 시각화 할 모델\n",
    "    out_file = \"tree.dot\", # 시각화 결과물을 저장할 파일 경로\n",
    "    class_names = iris_data.target_names, # 문자열로 된 클래스들의 이름\n",
    "    feature_names = iris_data.feature_names, # 각 특성(feature)의 이름\n",
    "    impurity = True,\n",
    "    filled = True\n",
    ")\n",
    "with open('tree.dot') as f:\n",
    "  dot_graph = f.read()\n",
    "\n",
    "graphviz.Source(dot_graph)"
   ]
  },
  {
   "cell_type": "code",
   "execution_count": 10,
   "metadata": {
    "colab": {
     "base_uri": "https://localhost:8080/"
    },
    "executionInfo": {
     "elapsed": 331,
     "status": "ok",
     "timestamp": 1695627291355,
     "user": {
      "displayName": "SY Lee",
      "userId": "15634914583474319987"
     },
     "user_tz": -540
    },
    "id": "t13liR9EOa2C",
    "outputId": "012766ae-4d96-4011-8d50-cbcd4c6f2b4a"
   },
   "outputs": [
    {
     "name": "stdout",
     "output_type": "stream",
     "text": [
      "훈련 세트에 대한 점수 : 0.967\n",
      "테스트 세트에 대한 점수 : 0.867\n"
     ]
    }
   ],
   "source": [
    "train_pred = dt_clf_depth_2.predict(X_train) # 알고 있는 데이터에 대한 예측\n",
    "test_pred  = dt_clf_depth_2.predict(X_test)  # 새로 보는 데이터에 대한 예측\n",
    "\n",
    "print(\"훈련 세트에 대한 점수 : {:.3f}\".format(accuracy_score(y_train, train_pred)))\n",
    "print(\"테스트 세트에 대한 점수 : {:.3f}\".format(accuracy_score(y_test, test_pred)))"
   ]
  },
  {
   "cell_type": "markdown",
   "metadata": {
    "id": "hJAC3GYSQyYx"
   },
   "source": [
    "# 트리의 결정 경계와 복잡도에 따른 과대적합/과소적합"
   ]
  },
  {
   "cell_type": "code",
   "execution_count": 11,
   "metadata": {
    "colab": {
     "base_uri": "https://localhost:8080/",
     "height": 452
    },
    "executionInfo": {
     "elapsed": 1017,
     "status": "ok",
     "timestamp": 1695627404046,
     "user": {
      "displayName": "SY Lee",
      "userId": "15634914583474319987"
     },
     "user_tz": -540
    },
    "id": "piTnXub9RJNi",
    "outputId": "b3795aca-513b-44bc-bddd-48b12b244803"
   },
   "outputs": [
    {
     "data": {
      "image/png": "[encoded data removed]",
      "text/plain": [
       "<Figure size 640x480 with 1 Axes>"
      ]
     },
     "metadata": {},
     "output_type": "display_data"
    }
   ],
   "source": [
    "from sklearn.datasets import make_classification\n",
    "import matplotlib.pyplot as plt\n",
    "\n",
    "plt.title(\"3 Class values with 2 Features Sample data creation\")\n",
    "\n",
    "# 2차원 시각화를 위해서 feature는 2개, 결정값 클래스는 3가지 유형의 classification 샘플 데이터 생성.\n",
    "X_features, y_labels = make_classification(\n",
    "    n_features=2,\n",
    "    n_redundant=0,\n",
    "    n_informative=2,\n",
    "    n_classes=3,\n",
    "    n_clusters_per_class=1,\n",
    "    random_state=0\n",
    ")\n",
    "\n",
    "# plot 형태로 2개의 feature로 2차원 좌표 시각화, 각 클래스값은 다른 색깔로 표시됨.\n",
    "plt.scatter(\n",
    "    X_features[:, 0],\n",
    "    X_features[:, 1],\n",
    "    marker='o',\n",
    "    c=y_labels,\n",
    "    s=25,\n",
    "    cmap='rainbow',\n",
    "    edgecolor='k'\n",
    ")\n",
    "plt.show()"
   ]
  },
  {
   "cell_type": "code",
   "execution_count": 15,
   "metadata": {
    "executionInfo": {
     "elapsed": 292,
     "status": "ok",
     "timestamp": 1695629933754,
     "user": {
      "displayName": "SY Lee",
      "userId": "15634914583474319987"
     },
     "user_tz": -540
    },
    "id": "hSbZ59-la283"
   },
   "outputs": [],
   "source": [
    "import numpy as np\n",
    "\n",
    "# Classifier의 Decision Boundary를 시각화 하는 함수\n",
    "def visualize_boundary(model, X, y):\n",
    "    fig,ax = plt.subplots()\n",
    "\n",
    "    # 학습 데이타 scatter plot으로 나타내기\n",
    "    ax.scatter(X[:, 0], X[:, 1], c=y, s=25, cmap='rainbow', edgecolor='k',\n",
    "               clim=(y.min(), y.max()), zorder=3)\n",
    "    ax.axis('tight')\n",
    "    ax.axis('off')\n",
    "    xlim_start , xlim_end = ax.get_xlim()\n",
    "    ylim_start , ylim_end = ax.get_ylim()\n",
    "\n",
    "    # 호출 파라미터로 들어온 training 데이타로 model 학습 .\n",
    "    model.fit(X, y)\n",
    "    # meshgrid 형태인 모든 좌표값으로 예측 수행.\n",
    "    xx, yy = np.meshgrid(np.linspace(xlim_start,xlim_end, num=200),np.linspace(ylim_start,ylim_end, num=200))\n",
    "    Z = model.predict(np.c_[xx.ravel(), yy.ravel()]).reshape(xx.shape)\n",
    "\n",
    "    # contourf() 를 이용하여 class boundary 를 visualization 수행.\n",
    "    n_classes = len(np.unique(y))\n",
    "    contours = ax.contourf(xx, yy, Z, alpha=0.3,\n",
    "                           levels=np.arange(n_classes + 1) - 0.5,\n",
    "                           cmap='rainbow', clim=(y.min(), y.max()),\n",
    "                           zorder=1)"
   ]
  },
  {
   "cell_type": "markdown",
   "metadata": {
    "id": "1ALrIbsnRNvY"
   },
   "source": [
    "# 기본 결정 트리 확인"
   ]
  },
  {
   "cell_type": "code",
   "execution_count": 16,
   "metadata": {
    "colab": {
     "base_uri": "https://localhost:8080/",
     "height": 406
    },
    "executionInfo": {
     "elapsed": 611,
     "status": "ok",
     "timestamp": 1695629937241,
     "user": {
      "displayName": "SY Lee",
      "userId": "15634914583474319987"
     },
     "user_tz": -540
    },
    "id": "r6hxtVFQR-PS",
    "outputId": "f8b8921b-0cde-46df-e946-7977c158d7b2"
   },
   "outputs": [
    {
     "data": {
      "image/png": "[encoded data removed]",
      "text/plain": [
       "<Figure size 640x480 with 1 Axes>"
      ]
     },
     "metadata": {},
     "output_type": "display_data"
    }
   ],
   "source": [
    "from sklearn.tree import DecisionTreeClassifier\n",
    "\n",
    "# 하이퍼 파라미터를 이용해 복잡도를 조절하지 않은 의사 결정나무 z 모델은 항상 과대적합이다.\n",
    "dt_clf = DecisionTreeClassifier().fit(X_features, y_labels)\n",
    "\n",
    "visualize_boundary(dt_clf, X_features, y_labels)"
   ]
  },
  {
   "cell_type": "code",
   "execution_count": 17,
   "metadata": {
    "colab": {
     "base_uri": "https://localhost:8080/",
     "height": 1000
    },
    "executionInfo": {
     "elapsed": 418,
     "status": "ok",
     "timestamp": 1695629958831,
     "user": {
      "displayName": "SY Lee",
      "userId": "15634914583474319987"
     },
     "user_tz": -540
    },
    "id": "LOHCCLbFa6u3",
    "outputId": "4e30aa61-5be9-49f9-e5a5-af7732fd6fe5"
   },
   "outputs": [
    {
     "data": {
      "image/svg+xml": [
       "<?xml version=\"1.0\" encoding=\"UTF-8\" standalone=\"no\"?>\n",
       "<!DOCTYPE svg PUBLIC \"-//W3C//DTD SVG 1.1//EN\"\n",
       " \"http://www.w3.org/Graphics/SVG/1.1/DTD/svg11.dtd\">\n",
       "<!-- Generated by graphviz version 2.43.0 (0)\n",
       " -->\n",
       "<!-- Title: Tree Pages: 1 -->\n",
       "<svg width=\"1336pt\" height=\"1028pt\"\n",
       " viewBox=\"0.00 0.00 1336.00 1028.00\" xmlns=\"http://www.w3.org/2000/svg\" xmlns:xlink=\"http://www.w3.org/1999/xlink\">\n",
       "<g id=\"graph0\" class=\"graph\" transform=\"scale(1 1) rotate(0) translate(4 1024)\">\n",
       "<title>Tree</title>\n",
       "<polygon fill=\"white\" stroke=\"transparent\" points=\"-4,4 -4,-1024 1332,-1024 1332,4 -4,4\"/>\n",
       "<!-- 0 -->\n",
       "<g id=\"node1\" class=\"node\">\n",
       "<title>0</title>\n",
       "<polygon fill=\"#fffdfc\" stroke=\"black\" points=\"575,-1020 443,-1020 443,-937 575,-937 575,-1020\"/>\n",
       "<text text-anchor=\"middle\" x=\"509\" y=\"-1004.8\" font-family=\"Helvetica,sans-Serif\" font-size=\"14.00\">x1 &lt;= 0.192</text>\n",
       "<text text-anchor=\"middle\" x=\"509\" y=\"-989.8\" font-family=\"Helvetica,sans-Serif\" font-size=\"14.00\">gini = 0.667</text>\n",
       "<text text-anchor=\"middle\" x=\"509\" y=\"-974.8\" font-family=\"Helvetica,sans-Serif\" font-size=\"14.00\">samples = 100</text>\n",
       "<text text-anchor=\"middle\" x=\"509\" y=\"-959.8\" font-family=\"Helvetica,sans-Serif\" font-size=\"14.00\">value = [34, 33, 33]</text>\n",
       "<text text-anchor=\"middle\" x=\"509\" y=\"-944.8\" font-family=\"Helvetica,sans-Serif\" font-size=\"14.00\">class = 0</text>\n",
       "</g>\n",
       "<!-- 1 -->\n",
       "<g id=\"node2\" class=\"node\">\n",
       "<title>1</title>\n",
       "<polygon fill=\"#eda672\" stroke=\"black\" points=\"435.5,-901 318.5,-901 318.5,-818 435.5,-818 435.5,-901\"/>\n",
       "<text text-anchor=\"middle\" x=\"377\" y=\"-885.8\" font-family=\"Helvetica,sans-Serif\" font-size=\"14.00\">x2 &lt;= &#45;0.587</text>\n",
       "<text text-anchor=\"middle\" x=\"377\" y=\"-870.8\" font-family=\"Helvetica,sans-Serif\" font-size=\"14.00\">gini = 0.349</text>\n",
       "<text text-anchor=\"middle\" x=\"377\" y=\"-855.8\" font-family=\"Helvetica,sans-Serif\" font-size=\"14.00\">samples = 40</text>\n",
       "<text text-anchor=\"middle\" x=\"377\" y=\"-840.8\" font-family=\"Helvetica,sans-Serif\" font-size=\"14.00\">value = [31, 0, 9]</text>\n",
       "<text text-anchor=\"middle\" x=\"377\" y=\"-825.8\" font-family=\"Helvetica,sans-Serif\" font-size=\"14.00\">class = 0</text>\n",
       "</g>\n",
       "<!-- 0&#45;&gt;1 -->\n",
       "<g id=\"edge1\" class=\"edge\">\n",
       "<title>0&#45;&gt;1</title>\n",
       "<path fill=\"none\" stroke=\"black\" d=\"M463.2,-936.91C452.66,-927.56 441.35,-917.54 430.51,-907.93\"/>\n",
       "<polygon fill=\"black\" stroke=\"black\" points=\"432.52,-905.03 422.72,-901.02 427.88,-910.27 432.52,-905.03\"/>\n",
       "<text text-anchor=\"middle\" x=\"424.22\" y=\"-922.28\" font-family=\"Helvetica,sans-Serif\" font-size=\"14.00\">True</text>\n",
       "</g>\n",
       "<!-- 10 -->\n",
       "<g id=\"node11\" class=\"node\">\n",
       "<title>10</title>\n",
       "<polygon fill=\"#cef8e0\" stroke=\"black\" points=\"708.5,-901 583.5,-901 583.5,-818 708.5,-818 708.5,-901\"/>\n",
       "<text text-anchor=\"middle\" x=\"646\" y=\"-885.8\" font-family=\"Helvetica,sans-Serif\" font-size=\"14.00\">x2 &lt;= 0.045</text>\n",
       "<text text-anchor=\"middle\" x=\"646\" y=\"-870.8\" font-family=\"Helvetica,sans-Serif\" font-size=\"14.00\">gini = 0.535</text>\n",
       "<text text-anchor=\"middle\" x=\"646\" y=\"-855.8\" font-family=\"Helvetica,sans-Serif\" font-size=\"14.00\">samples = 60</text>\n",
       "<text text-anchor=\"middle\" x=\"646\" y=\"-840.8\" font-family=\"Helvetica,sans-Serif\" font-size=\"14.00\">value = [3, 33, 24]</text>\n",
       "<text text-anchor=\"middle\" x=\"646\" y=\"-825.8\" font-family=\"Helvetica,sans-Serif\" font-size=\"14.00\">class = 1</text>\n",
       "</g>\n",
       "<!-- 0&#45;&gt;10 -->\n",
       "<g id=\"edge10\" class=\"edge\">\n",
       "<title>0&#45;&gt;10</title>\n",
       "<path fill=\"none\" stroke=\"black\" d=\"M556.53,-936.91C567.58,-927.47 579.44,-917.34 590.79,-907.65\"/>\n",
       "<polygon fill=\"black\" stroke=\"black\" points=\"593.22,-910.18 598.55,-901.02 588.68,-904.85 593.22,-910.18\"/>\n",
       "<text text-anchor=\"middle\" x=\"596.59\" y=\"-922.24\" font-family=\"Helvetica,sans-Serif\" font-size=\"14.00\">False</text>\n",
       "</g>\n",
       "<!-- 2 -->\n",
       "<g id=\"node3\" class=\"node\">\n",
       "<title>2</title>\n",
       "<polygon fill=\"#a06aec\" stroke=\"black\" points=\"238,-782 128,-782 128,-699 238,-699 238,-782\"/>\n",
       "<text text-anchor=\"middle\" x=\"183\" y=\"-766.8\" font-family=\"Helvetica,sans-Serif\" font-size=\"14.00\">x1 &lt;= &#45;0.03</text>\n",
       "<text text-anchor=\"middle\" x=\"183\" y=\"-751.8\" font-family=\"Helvetica,sans-Serif\" font-size=\"14.00\">gini = 0.32</text>\n",
       "<text text-anchor=\"middle\" x=\"183\" y=\"-736.8\" font-family=\"Helvetica,sans-Serif\" font-size=\"14.00\">samples = 10</text>\n",
       "<text text-anchor=\"middle\" x=\"183\" y=\"-721.8\" font-family=\"Helvetica,sans-Serif\" font-size=\"14.00\">value = [2, 0, 8]</text>\n",
       "<text text-anchor=\"middle\" x=\"183\" y=\"-706.8\" font-family=\"Helvetica,sans-Serif\" font-size=\"14.00\">class = 2</text>\n",
       "</g>\n",
       "<!-- 1&#45;&gt;2 -->\n",
       "<g id=\"edge2\" class=\"edge\">\n",
       "<title>1&#45;&gt;2</title>\n",
       "<path fill=\"none\" stroke=\"black\" d=\"M318.27,-823.08C295.72,-809.48 269.89,-793.9 246.88,-780.03\"/>\n",
       "<polygon fill=\"black\" stroke=\"black\" points=\"248.59,-776.97 238.22,-774.8 244.97,-782.96 248.59,-776.97\"/>\n",
       "</g>\n",
       "<!-- 5 -->\n",
       "<g id=\"node6\" class=\"node\">\n",
       "<title>5</title>\n",
       "<polygon fill=\"#e68540\" stroke=\"black\" points=\"435.5,-782 318.5,-782 318.5,-699 435.5,-699 435.5,-782\"/>\n",
       "<text text-anchor=\"middle\" x=\"377\" y=\"-766.8\" font-family=\"Helvetica,sans-Serif\" font-size=\"14.00\">x1 &lt;= &#45;0.027</text>\n",
       "<text text-anchor=\"middle\" x=\"377\" y=\"-751.8\" font-family=\"Helvetica,sans-Serif\" font-size=\"14.00\">gini = 0.064</text>\n",
       "<text text-anchor=\"middle\" x=\"377\" y=\"-736.8\" font-family=\"Helvetica,sans-Serif\" font-size=\"14.00\">samples = 30</text>\n",
       "<text text-anchor=\"middle\" x=\"377\" y=\"-721.8\" font-family=\"Helvetica,sans-Serif\" font-size=\"14.00\">value = [29, 0, 1]</text>\n",
       "<text text-anchor=\"middle\" x=\"377\" y=\"-706.8\" font-family=\"Helvetica,sans-Serif\" font-size=\"14.00\">class = 0</text>\n",
       "</g>\n",
       "<!-- 1&#45;&gt;5 -->\n",
       "<g id=\"edge5\" class=\"edge\">\n",
       "<title>1&#45;&gt;5</title>\n",
       "<path fill=\"none\" stroke=\"black\" d=\"M377,-817.91C377,-809.65 377,-800.86 377,-792.3\"/>\n",
       "<polygon fill=\"black\" stroke=\"black\" points=\"380.5,-792.02 377,-782.02 373.5,-792.02 380.5,-792.02\"/>\n",
       "</g>\n",
       "<!-- 3 -->\n",
       "<g id=\"node4\" class=\"node\">\n",
       "<title>3</title>\n",
       "<polygon fill=\"#8139e5\" stroke=\"black\" points=\"110,-655.5 0,-655.5 0,-587.5 110,-587.5 110,-655.5\"/>\n",
       "<text text-anchor=\"middle\" x=\"55\" y=\"-640.3\" font-family=\"Helvetica,sans-Serif\" font-size=\"14.00\">gini = 0.0</text>\n",
       "<text text-anchor=\"middle\" x=\"55\" y=\"-625.3\" font-family=\"Helvetica,sans-Serif\" font-size=\"14.00\">samples = 8</text>\n",
       "<text text-anchor=\"middle\" x=\"55\" y=\"-610.3\" font-family=\"Helvetica,sans-Serif\" font-size=\"14.00\">value = [0, 0, 8]</text>\n",
       "<text text-anchor=\"middle\" x=\"55\" y=\"-595.3\" font-family=\"Helvetica,sans-Serif\" font-size=\"14.00\">class = 2</text>\n",
       "</g>\n",
       "<!-- 2&#45;&gt;3 -->\n",
       "<g id=\"edge3\" class=\"edge\">\n",
       "<title>2&#45;&gt;3</title>\n",
       "<path fill=\"none\" stroke=\"black\" d=\"M138.59,-698.91C125.67,-687.1 111.58,-674.22 98.71,-662.45\"/>\n",
       "<polygon fill=\"black\" stroke=\"black\" points=\"101.03,-659.83 91.29,-655.67 96.3,-665 101.03,-659.83\"/>\n",
       "</g>\n",
       "<!-- 4 -->\n",
       "<g id=\"node5\" class=\"node\">\n",
       "<title>4</title>\n",
       "<polygon fill=\"#e58139\" stroke=\"black\" points=\"238,-655.5 128,-655.5 128,-587.5 238,-587.5 238,-655.5\"/>\n",
       "<text text-anchor=\"middle\" x=\"183\" y=\"-640.3\" font-family=\"Helvetica,sans-Serif\" font-size=\"14.00\">gini = 0.0</text>\n",
       "<text text-anchor=\"middle\" x=\"183\" y=\"-625.3\" font-family=\"Helvetica,sans-Serif\" font-size=\"14.00\">samples = 2</text>\n",
       "<text text-anchor=\"middle\" x=\"183\" y=\"-610.3\" font-family=\"Helvetica,sans-Serif\" font-size=\"14.00\">value = [2, 0, 0]</text>\n",
       "<text text-anchor=\"middle\" x=\"183\" y=\"-595.3\" font-family=\"Helvetica,sans-Serif\" font-size=\"14.00\">class = 0</text>\n",
       "</g>\n",
       "<!-- 2&#45;&gt;4 -->\n",
       "<g id=\"edge4\" class=\"edge\">\n",
       "<title>2&#45;&gt;4</title>\n",
       "<path fill=\"none\" stroke=\"black\" d=\"M183,-698.91C183,-688.2 183,-676.62 183,-665.78\"/>\n",
       "<polygon fill=\"black\" stroke=\"black\" points=\"186.5,-665.67 183,-655.67 179.5,-665.67 186.5,-665.67\"/>\n",
       "</g>\n",
       "<!-- 6 -->\n",
       "<g id=\"node7\" class=\"node\">\n",
       "<title>6</title>\n",
       "<polygon fill=\"#e58139\" stroke=\"black\" points=\"373.5,-655.5 256.5,-655.5 256.5,-587.5 373.5,-587.5 373.5,-655.5\"/>\n",
       "<text text-anchor=\"middle\" x=\"315\" y=\"-640.3\" font-family=\"Helvetica,sans-Serif\" font-size=\"14.00\">gini = 0.0</text>\n",
       "<text text-anchor=\"middle\" x=\"315\" y=\"-625.3\" font-family=\"Helvetica,sans-Serif\" font-size=\"14.00\">samples = 28</text>\n",
       "<text text-anchor=\"middle\" x=\"315\" y=\"-610.3\" font-family=\"Helvetica,sans-Serif\" font-size=\"14.00\">value = [28, 0, 0]</text>\n",
       "<text text-anchor=\"middle\" x=\"315\" y=\"-595.3\" font-family=\"Helvetica,sans-Serif\" font-size=\"14.00\">class = 0</text>\n",
       "</g>\n",
       "<!-- 5&#45;&gt;6 -->\n",
       "<g id=\"edge6\" class=\"edge\">\n",
       "<title>5&#45;&gt;6</title>\n",
       "<path fill=\"none\" stroke=\"black\" d=\"M355.49,-698.91C349.64,-687.87 343.3,-675.9 337.4,-664.77\"/>\n",
       "<polygon fill=\"black\" stroke=\"black\" points=\"340.35,-662.86 332.58,-655.67 334.17,-666.14 340.35,-662.86\"/>\n",
       "</g>\n",
       "<!-- 7 -->\n",
       "<g id=\"node8\" class=\"node\">\n",
       "<title>7</title>\n",
       "<polygon fill=\"#ffffff\" stroke=\"black\" points=\"502,-663 392,-663 392,-580 502,-580 502,-663\"/>\n",
       "<text text-anchor=\"middle\" x=\"447\" y=\"-647.8\" font-family=\"Helvetica,sans-Serif\" font-size=\"14.00\">x2 &lt;= &#45;0.2</text>\n",
       "<text text-anchor=\"middle\" x=\"447\" y=\"-632.8\" font-family=\"Helvetica,sans-Serif\" font-size=\"14.00\">gini = 0.5</text>\n",
       "<text text-anchor=\"middle\" x=\"447\" y=\"-617.8\" font-family=\"Helvetica,sans-Serif\" font-size=\"14.00\">samples = 2</text>\n",
       "<text text-anchor=\"middle\" x=\"447\" y=\"-602.8\" font-family=\"Helvetica,sans-Serif\" font-size=\"14.00\">value = [1, 0, 1]</text>\n",
       "<text text-anchor=\"middle\" x=\"447\" y=\"-587.8\" font-family=\"Helvetica,sans-Serif\" font-size=\"14.00\">class = 0</text>\n",
       "</g>\n",
       "<!-- 5&#45;&gt;7 -->\n",
       "<g id=\"edge7\" class=\"edge\">\n",
       "<title>5&#45;&gt;7</title>\n",
       "<path fill=\"none\" stroke=\"black\" d=\"M401.29,-698.91C406.55,-690.1 412.18,-680.7 417.62,-671.61\"/>\n",
       "<polygon fill=\"black\" stroke=\"black\" points=\"420.63,-673.4 422.76,-663.02 414.62,-669.81 420.63,-673.4\"/>\n",
       "</g>\n",
       "<!-- 8 -->\n",
       "<g id=\"node9\" class=\"node\">\n",
       "<title>8</title>\n",
       "<polygon fill=\"#e58139\" stroke=\"black\" points=\"379,-536.5 269,-536.5 269,-468.5 379,-468.5 379,-536.5\"/>\n",
       "<text text-anchor=\"middle\" x=\"324\" y=\"-521.3\" font-family=\"Helvetica,sans-Serif\" font-size=\"14.00\">gini = 0.0</text>\n",
       "<text text-anchor=\"middle\" x=\"324\" y=\"-506.3\" font-family=\"Helvetica,sans-Serif\" font-size=\"14.00\">samples = 1</text>\n",
       "<text text-anchor=\"middle\" x=\"324\" y=\"-491.3\" font-family=\"Helvetica,sans-Serif\" font-size=\"14.00\">value = [1, 0, 0]</text>\n",
       "<text text-anchor=\"middle\" x=\"324\" y=\"-476.3\" font-family=\"Helvetica,sans-Serif\" font-size=\"14.00\">class = 0</text>\n",
       "</g>\n",
       "<!-- 7&#45;&gt;8 -->\n",
       "<g id=\"edge8\" class=\"edge\">\n",
       "<title>7&#45;&gt;8</title>\n",
       "<path fill=\"none\" stroke=\"black\" d=\"M404.33,-579.91C392.03,-568.21 378.62,-555.46 366.35,-543.78\"/>\n",
       "<polygon fill=\"black\" stroke=\"black\" points=\"368.53,-541.02 358.87,-536.67 363.7,-546.1 368.53,-541.02\"/>\n",
       "</g>\n",
       "<!-- 9 -->\n",
       "<g id=\"node10\" class=\"node\">\n",
       "<title>9</title>\n",
       "<polygon fill=\"#8139e5\" stroke=\"black\" points=\"507,-536.5 397,-536.5 397,-468.5 507,-468.5 507,-536.5\"/>\n",
       "<text text-anchor=\"middle\" x=\"452\" y=\"-521.3\" font-family=\"Helvetica,sans-Serif\" font-size=\"14.00\">gini = 0.0</text>\n",
       "<text text-anchor=\"middle\" x=\"452\" y=\"-506.3\" font-family=\"Helvetica,sans-Serif\" font-size=\"14.00\">samples = 1</text>\n",
       "<text text-anchor=\"middle\" x=\"452\" y=\"-491.3\" font-family=\"Helvetica,sans-Serif\" font-size=\"14.00\">value = [0, 0, 1]</text>\n",
       "<text text-anchor=\"middle\" x=\"452\" y=\"-476.3\" font-family=\"Helvetica,sans-Serif\" font-size=\"14.00\">class = 2</text>\n",
       "</g>\n",
       "<!-- 7&#45;&gt;9 -->\n",
       "<g id=\"edge9\" class=\"edge\">\n",
       "<title>7&#45;&gt;9</title>\n",
       "<path fill=\"none\" stroke=\"black\" d=\"M448.73,-579.91C449.19,-569.2 449.69,-557.62 450.15,-546.78\"/>\n",
       "<polygon fill=\"black\" stroke=\"black\" points=\"453.65,-546.81 450.58,-536.67 446.66,-546.51 453.65,-546.81\"/>\n",
       "</g>\n",
       "<!-- 11 -->\n",
       "<g id=\"node12\" class=\"node\">\n",
       "<title>11</title>\n",
       "<polygon fill=\"#ba93f1\" stroke=\"black\" points=\"704.5,-782 587.5,-782 587.5,-699 704.5,-699 704.5,-782\"/>\n",
       "<text text-anchor=\"middle\" x=\"646\" y=\"-766.8\" font-family=\"Helvetica,sans-Serif\" font-size=\"14.00\">x2 &lt;= &#45;1.372</text>\n",
       "<text text-anchor=\"middle\" x=\"646\" y=\"-751.8\" font-family=\"Helvetica,sans-Serif\" font-size=\"14.00\">gini = 0.456</text>\n",
       "<text text-anchor=\"middle\" x=\"646\" y=\"-736.8\" font-family=\"Helvetica,sans-Serif\" font-size=\"14.00\">samples = 31</text>\n",
       "<text text-anchor=\"middle\" x=\"646\" y=\"-721.8\" font-family=\"Helvetica,sans-Serif\" font-size=\"14.00\">value = [1, 9, 21]</text>\n",
       "<text text-anchor=\"middle\" x=\"646\" y=\"-706.8\" font-family=\"Helvetica,sans-Serif\" font-size=\"14.00\">class = 2</text>\n",
       "</g>\n",
       "<!-- 10&#45;&gt;11 -->\n",
       "<g id=\"edge11\" class=\"edge\">\n",
       "<title>10&#45;&gt;11</title>\n",
       "<path fill=\"none\" stroke=\"black\" d=\"M646,-817.91C646,-809.65 646,-800.86 646,-792.3\"/>\n",
       "<polygon fill=\"black\" stroke=\"black\" points=\"649.5,-792.02 646,-782.02 642.5,-792.02 649.5,-792.02\"/>\n",
       "</g>\n",
       "<!-- 26 -->\n",
       "<g id=\"node27\" class=\"node\">\n",
       "<title>26</title>\n",
       "<polygon fill=\"#5fea99\" stroke=\"black\" points=\"907.5,-782 790.5,-782 790.5,-699 907.5,-699 907.5,-782\"/>\n",
       "<text text-anchor=\"middle\" x=\"849\" y=\"-766.8\" font-family=\"Helvetica,sans-Serif\" font-size=\"14.00\">x1 &lt;= 2.515</text>\n",
       "<text text-anchor=\"middle\" x=\"849\" y=\"-751.8\" font-family=\"Helvetica,sans-Serif\" font-size=\"14.00\">gini = 0.3</text>\n",
       "<text text-anchor=\"middle\" x=\"849\" y=\"-736.8\" font-family=\"Helvetica,sans-Serif\" font-size=\"14.00\">samples = 29</text>\n",
       "<text text-anchor=\"middle\" x=\"849\" y=\"-721.8\" font-family=\"Helvetica,sans-Serif\" font-size=\"14.00\">value = [2, 24, 3]</text>\n",
       "<text text-anchor=\"middle\" x=\"849\" y=\"-706.8\" font-family=\"Helvetica,sans-Serif\" font-size=\"14.00\">class = 1</text>\n",
       "</g>\n",
       "<!-- 10&#45;&gt;26 -->\n",
       "<g id=\"edge26\" class=\"edge\">\n",
       "<title>10&#45;&gt;26</title>\n",
       "<path fill=\"none\" stroke=\"black\" d=\"M708.56,-822.44C731.7,-809.11 758.02,-793.93 781.58,-780.36\"/>\n",
       "<polygon fill=\"black\" stroke=\"black\" points=\"783.54,-783.27 790.45,-775.24 780.04,-777.2 783.54,-783.27\"/>\n",
       "</g>\n",
       "<!-- 12 -->\n",
       "<g id=\"node13\" class=\"node\">\n",
       "<title>12</title>\n",
       "<polygon fill=\"#8139e5\" stroke=\"black\" points=\"637.5,-655.5 520.5,-655.5 520.5,-587.5 637.5,-587.5 637.5,-655.5\"/>\n",
       "<text text-anchor=\"middle\" x=\"579\" y=\"-640.3\" font-family=\"Helvetica,sans-Serif\" font-size=\"14.00\">gini = 0.0</text>\n",
       "<text text-anchor=\"middle\" x=\"579\" y=\"-625.3\" font-family=\"Helvetica,sans-Serif\" font-size=\"14.00\">samples = 10</text>\n",
       "<text text-anchor=\"middle\" x=\"579\" y=\"-610.3\" font-family=\"Helvetica,sans-Serif\" font-size=\"14.00\">value = [0, 0, 10]</text>\n",
       "<text text-anchor=\"middle\" x=\"579\" y=\"-595.3\" font-family=\"Helvetica,sans-Serif\" font-size=\"14.00\">class = 2</text>\n",
       "</g>\n",
       "<!-- 11&#45;&gt;12 -->\n",
       "<g id=\"edge12\" class=\"edge\">\n",
       "<title>11&#45;&gt;12</title>\n",
       "<path fill=\"none\" stroke=\"black\" d=\"M622.75,-698.91C616.37,-687.76 609.44,-675.66 603.02,-664.44\"/>\n",
       "<polygon fill=\"black\" stroke=\"black\" points=\"606,-662.61 597.99,-655.67 599.93,-666.08 606,-662.61\"/>\n",
       "</g>\n",
       "<!-- 13 -->\n",
       "<g id=\"node14\" class=\"node\">\n",
       "<title>13</title>\n",
       "<polygon fill=\"#eadefb\" stroke=\"black\" points=\"772.5,-663 655.5,-663 655.5,-580 772.5,-580 772.5,-663\"/>\n",
       "<text text-anchor=\"middle\" x=\"714\" y=\"-647.8\" font-family=\"Helvetica,sans-Serif\" font-size=\"14.00\">x1 &lt;= 1.504</text>\n",
       "<text text-anchor=\"middle\" x=\"714\" y=\"-632.8\" font-family=\"Helvetica,sans-Serif\" font-size=\"14.00\">gini = 0.54</text>\n",
       "<text text-anchor=\"middle\" x=\"714\" y=\"-617.8\" font-family=\"Helvetica,sans-Serif\" font-size=\"14.00\">samples = 21</text>\n",
       "<text text-anchor=\"middle\" x=\"714\" y=\"-602.8\" font-family=\"Helvetica,sans-Serif\" font-size=\"14.00\">value = [1, 9, 11]</text>\n",
       "<text text-anchor=\"middle\" x=\"714\" y=\"-587.8\" font-family=\"Helvetica,sans-Serif\" font-size=\"14.00\">class = 2</text>\n",
       "</g>\n",
       "<!-- 11&#45;&gt;13 -->\n",
       "<g id=\"edge13\" class=\"edge\">\n",
       "<title>11&#45;&gt;13</title>\n",
       "<path fill=\"none\" stroke=\"black\" d=\"M669.59,-698.91C674.66,-690.2 680.06,-680.9 685.29,-671.89\"/>\n",
       "<polygon fill=\"black\" stroke=\"black\" points=\"688.45,-673.43 690.45,-663.02 682.4,-669.91 688.45,-673.43\"/>\n",
       "</g>\n",
       "<!-- 14 -->\n",
       "<g id=\"node15\" class=\"node\">\n",
       "<title>14</title>\n",
       "<polygon fill=\"#c4f7d9\" stroke=\"black\" points=\"643,-544 533,-544 533,-461 643,-461 643,-544\"/>\n",
       "<text text-anchor=\"middle\" x=\"588\" y=\"-528.8\" font-family=\"Helvetica,sans-Serif\" font-size=\"14.00\">x1 &lt;= 0.621</text>\n",
       "<text text-anchor=\"middle\" x=\"588\" y=\"-513.8\" font-family=\"Helvetica,sans-Serif\" font-size=\"14.00\">gini = 0.539</text>\n",
       "<text text-anchor=\"middle\" x=\"588\" y=\"-498.8\" font-family=\"Helvetica,sans-Serif\" font-size=\"14.00\">samples = 16</text>\n",
       "<text text-anchor=\"middle\" x=\"588\" y=\"-483.8\" font-family=\"Helvetica,sans-Serif\" font-size=\"14.00\">value = [1, 9, 6]</text>\n",
       "<text text-anchor=\"middle\" x=\"588\" y=\"-468.8\" font-family=\"Helvetica,sans-Serif\" font-size=\"14.00\">class = 1</text>\n",
       "</g>\n",
       "<!-- 13&#45;&gt;14 -->\n",
       "<g id=\"edge14\" class=\"edge\">\n",
       "<title>13&#45;&gt;14</title>\n",
       "<path fill=\"none\" stroke=\"black\" d=\"M670.28,-579.91C660.22,-570.56 649.43,-560.54 639.08,-550.93\"/>\n",
       "<polygon fill=\"black\" stroke=\"black\" points=\"641.35,-548.26 631.64,-544.02 636.58,-553.39 641.35,-548.26\"/>\n",
       "</g>\n",
       "<!-- 25 -->\n",
       "<g id=\"node26\" class=\"node\">\n",
       "<title>25</title>\n",
       "<polygon fill=\"#8139e5\" stroke=\"black\" points=\"771,-536.5 661,-536.5 661,-468.5 771,-468.5 771,-536.5\"/>\n",
       "<text text-anchor=\"middle\" x=\"716\" y=\"-521.3\" font-family=\"Helvetica,sans-Serif\" font-size=\"14.00\">gini = 0.0</text>\n",
       "<text text-anchor=\"middle\" x=\"716\" y=\"-506.3\" font-family=\"Helvetica,sans-Serif\" font-size=\"14.00\">samples = 5</text>\n",
       "<text text-anchor=\"middle\" x=\"716\" y=\"-491.3\" font-family=\"Helvetica,sans-Serif\" font-size=\"14.00\">value = [0, 0, 5]</text>\n",
       "<text text-anchor=\"middle\" x=\"716\" y=\"-476.3\" font-family=\"Helvetica,sans-Serif\" font-size=\"14.00\">class = 2</text>\n",
       "</g>\n",
       "<!-- 13&#45;&gt;25 -->\n",
       "<g id=\"edge25\" class=\"edge\">\n",
       "<title>13&#45;&gt;25</title>\n",
       "<path fill=\"none\" stroke=\"black\" d=\"M714.69,-579.91C714.88,-569.2 715.07,-557.62 715.26,-546.78\"/>\n",
       "<polygon fill=\"black\" stroke=\"black\" points=\"718.76,-546.73 715.43,-536.67 711.76,-546.61 718.76,-546.73\"/>\n",
       "</g>\n",
       "<!-- 15 -->\n",
       "<g id=\"node16\" class=\"node\">\n",
       "<title>15</title>\n",
       "<polygon fill=\"#8139e5\" stroke=\"black\" points=\"580,-417.5 470,-417.5 470,-349.5 580,-349.5 580,-417.5\"/>\n",
       "<text text-anchor=\"middle\" x=\"525\" y=\"-402.3\" font-family=\"Helvetica,sans-Serif\" font-size=\"14.00\">gini = 0.0</text>\n",
       "<text text-anchor=\"middle\" x=\"525\" y=\"-387.3\" font-family=\"Helvetica,sans-Serif\" font-size=\"14.00\">samples = 3</text>\n",
       "<text text-anchor=\"middle\" x=\"525\" y=\"-372.3\" font-family=\"Helvetica,sans-Serif\" font-size=\"14.00\">value = [0, 0, 3]</text>\n",
       "<text text-anchor=\"middle\" x=\"525\" y=\"-357.3\" font-family=\"Helvetica,sans-Serif\" font-size=\"14.00\">class = 2</text>\n",
       "</g>\n",
       "<!-- 14&#45;&gt;15 -->\n",
       "<g id=\"edge15\" class=\"edge\">\n",
       "<title>14&#45;&gt;15</title>\n",
       "<path fill=\"none\" stroke=\"black\" d=\"M566.14,-460.91C560.2,-449.87 553.75,-437.9 547.76,-426.77\"/>\n",
       "<polygon fill=\"black\" stroke=\"black\" points=\"550.68,-424.81 542.86,-417.67 544.52,-428.13 550.68,-424.81\"/>\n",
       "</g>\n",
       "<!-- 16 -->\n",
       "<g id=\"node17\" class=\"node\">\n",
       "<title>16</title>\n",
       "<polygon fill=\"#88efb3\" stroke=\"black\" points=\"708,-425 598,-425 598,-342 708,-342 708,-425\"/>\n",
       "<text text-anchor=\"middle\" x=\"653\" y=\"-409.8\" font-family=\"Helvetica,sans-Serif\" font-size=\"14.00\">x2 &lt;= &#45;0.028</text>\n",
       "<text text-anchor=\"middle\" x=\"653\" y=\"-394.8\" font-family=\"Helvetica,sans-Serif\" font-size=\"14.00\">gini = 0.462</text>\n",
       "<text text-anchor=\"middle\" x=\"653\" y=\"-379.8\" font-family=\"Helvetica,sans-Serif\" font-size=\"14.00\">samples = 13</text>\n",
       "<text text-anchor=\"middle\" x=\"653\" y=\"-364.8\" font-family=\"Helvetica,sans-Serif\" font-size=\"14.00\">value = [1, 9, 3]</text>\n",
       "<text text-anchor=\"middle\" x=\"653\" y=\"-349.8\" font-family=\"Helvetica,sans-Serif\" font-size=\"14.00\">class = 1</text>\n",
       "</g>\n",
       "<!-- 14&#45;&gt;16 -->\n",
       "<g id=\"edge16\" class=\"edge\">\n",
       "<title>14&#45;&gt;16</title>\n",
       "<path fill=\"none\" stroke=\"black\" d=\"M610.55,-460.91C615.39,-452.2 620.56,-442.9 625.56,-433.89\"/>\n",
       "<polygon fill=\"black\" stroke=\"black\" points=\"628.69,-435.46 630.49,-425.02 622.57,-432.06 628.69,-435.46\"/>\n",
       "</g>\n",
       "<!-- 17 -->\n",
       "<g id=\"node18\" class=\"node\">\n",
       "<title>17</title>\n",
       "<polygon fill=\"#65eb9d\" stroke=\"black\" points=\"614,-306 504,-306 504,-223 614,-223 614,-306\"/>\n",
       "<text text-anchor=\"middle\" x=\"559\" y=\"-290.8\" font-family=\"Helvetica,sans-Serif\" font-size=\"14.00\">x1 &lt;= 1.219</text>\n",
       "<text text-anchor=\"middle\" x=\"559\" y=\"-275.8\" font-family=\"Helvetica,sans-Serif\" font-size=\"14.00\">gini = 0.298</text>\n",
       "<text text-anchor=\"middle\" x=\"559\" y=\"-260.8\" font-family=\"Helvetica,sans-Serif\" font-size=\"14.00\">samples = 11</text>\n",
       "<text text-anchor=\"middle\" x=\"559\" y=\"-245.8\" font-family=\"Helvetica,sans-Serif\" font-size=\"14.00\">value = [0, 9, 2]</text>\n",
       "<text text-anchor=\"middle\" x=\"559\" y=\"-230.8\" font-family=\"Helvetica,sans-Serif\" font-size=\"14.00\">class = 1</text>\n",
       "</g>\n",
       "<!-- 16&#45;&gt;17 -->\n",
       "<g id=\"edge17\" class=\"edge\">\n",
       "<title>16&#45;&gt;17</title>\n",
       "<path fill=\"none\" stroke=\"black\" d=\"M620.39,-341.91C613.17,-332.92 605.45,-323.32 598.01,-314.05\"/>\n",
       "<polygon fill=\"black\" stroke=\"black\" points=\"600.55,-311.62 591.56,-306.02 595.09,-316.01 600.55,-311.62\"/>\n",
       "</g>\n",
       "<!-- 22 -->\n",
       "<g id=\"node23\" class=\"node\">\n",
       "<title>22</title>\n",
       "<polygon fill=\"#ffffff\" stroke=\"black\" points=\"742,-306 632,-306 632,-223 742,-223 742,-306\"/>\n",
       "<text text-anchor=\"middle\" x=\"687\" y=\"-290.8\" font-family=\"Helvetica,sans-Serif\" font-size=\"14.00\">x2 &lt;= 0.023</text>\n",
       "<text text-anchor=\"middle\" x=\"687\" y=\"-275.8\" font-family=\"Helvetica,sans-Serif\" font-size=\"14.00\">gini = 0.5</text>\n",
       "<text text-anchor=\"middle\" x=\"687\" y=\"-260.8\" font-family=\"Helvetica,sans-Serif\" font-size=\"14.00\">samples = 2</text>\n",
       "<text text-anchor=\"middle\" x=\"687\" y=\"-245.8\" font-family=\"Helvetica,sans-Serif\" font-size=\"14.00\">value = [1, 0, 1]</text>\n",
       "<text text-anchor=\"middle\" x=\"687\" y=\"-230.8\" font-family=\"Helvetica,sans-Serif\" font-size=\"14.00\">class = 0</text>\n",
       "</g>\n",
       "<!-- 16&#45;&gt;22 -->\n",
       "<g id=\"edge22\" class=\"edge\">\n",
       "<title>16&#45;&gt;22</title>\n",
       "<path fill=\"none\" stroke=\"black\" d=\"M664.8,-341.91C667.25,-333.47 669.86,-324.48 672.4,-315.74\"/>\n",
       "<polygon fill=\"black\" stroke=\"black\" points=\"675.8,-316.6 675.22,-306.02 669.07,-314.65 675.8,-316.6\"/>\n",
       "</g>\n",
       "<!-- 18 -->\n",
       "<g id=\"node19\" class=\"node\">\n",
       "<title>18</title>\n",
       "<polygon fill=\"#39e581\" stroke=\"black\" points=\"486,-179.5 376,-179.5 376,-111.5 486,-111.5 486,-179.5\"/>\n",
       "<text text-anchor=\"middle\" x=\"431\" y=\"-164.3\" font-family=\"Helvetica,sans-Serif\" font-size=\"14.00\">gini = 0.0</text>\n",
       "<text text-anchor=\"middle\" x=\"431\" y=\"-149.3\" font-family=\"Helvetica,sans-Serif\" font-size=\"14.00\">samples = 7</text>\n",
       "<text text-anchor=\"middle\" x=\"431\" y=\"-134.3\" font-family=\"Helvetica,sans-Serif\" font-size=\"14.00\">value = [0, 7, 0]</text>\n",
       "<text text-anchor=\"middle\" x=\"431\" y=\"-119.3\" font-family=\"Helvetica,sans-Serif\" font-size=\"14.00\">class = 1</text>\n",
       "</g>\n",
       "<!-- 17&#45;&gt;18 -->\n",
       "<g id=\"edge18\" class=\"edge\">\n",
       "<title>17&#45;&gt;18</title>\n",
       "<path fill=\"none\" stroke=\"black\" d=\"M514.59,-222.91C501.67,-211.1 487.58,-198.22 474.71,-186.45\"/>\n",
       "<polygon fill=\"black\" stroke=\"black\" points=\"477.03,-183.83 467.29,-179.67 472.3,-189 477.03,-183.83\"/>\n",
       "</g>\n",
       "<!-- 19 -->\n",
       "<g id=\"node20\" class=\"node\">\n",
       "<title>19</title>\n",
       "<polygon fill=\"#ffffff\" stroke=\"black\" points=\"614,-187 504,-187 504,-104 614,-104 614,-187\"/>\n",
       "<text text-anchor=\"middle\" x=\"559\" y=\"-171.8\" font-family=\"Helvetica,sans-Serif\" font-size=\"14.00\">x1 &lt;= 1.266</text>\n",
       "<text text-anchor=\"middle\" x=\"559\" y=\"-156.8\" font-family=\"Helvetica,sans-Serif\" font-size=\"14.00\">gini = 0.5</text>\n",
       "<text text-anchor=\"middle\" x=\"559\" y=\"-141.8\" font-family=\"Helvetica,sans-Serif\" font-size=\"14.00\">samples = 4</text>\n",
       "<text text-anchor=\"middle\" x=\"559\" y=\"-126.8\" font-family=\"Helvetica,sans-Serif\" font-size=\"14.00\">value = [0, 2, 2]</text>\n",
       "<text text-anchor=\"middle\" x=\"559\" y=\"-111.8\" font-family=\"Helvetica,sans-Serif\" font-size=\"14.00\">class = 1</text>\n",
       "</g>\n",
       "<!-- 17&#45;&gt;19 -->\n",
       "<g id=\"edge19\" class=\"edge\">\n",
       "<title>17&#45;&gt;19</title>\n",
       "<path fill=\"none\" stroke=\"black\" d=\"M559,-222.91C559,-214.65 559,-205.86 559,-197.3\"/>\n",
       "<polygon fill=\"black\" stroke=\"black\" points=\"562.5,-197.02 559,-187.02 555.5,-197.02 562.5,-197.02\"/>\n",
       "</g>\n",
       "<!-- 20 -->\n",
       "<g id=\"node21\" class=\"node\">\n",
       "<title>20</title>\n",
       "<polygon fill=\"#8139e5\" stroke=\"black\" points=\"550,-68 440,-68 440,0 550,0 550,-68\"/>\n",
       "<text text-anchor=\"middle\" x=\"495\" y=\"-52.8\" font-family=\"Helvetica,sans-Serif\" font-size=\"14.00\">gini = 0.0</text>\n",
       "<text text-anchor=\"middle\" x=\"495\" y=\"-37.8\" font-family=\"Helvetica,sans-Serif\" font-size=\"14.00\">samples = 2</text>\n",
       "<text text-anchor=\"middle\" x=\"495\" y=\"-22.8\" font-family=\"Helvetica,sans-Serif\" font-size=\"14.00\">value = [0, 0, 2]</text>\n",
       "<text text-anchor=\"middle\" x=\"495\" y=\"-7.8\" font-family=\"Helvetica,sans-Serif\" font-size=\"14.00\">class = 2</text>\n",
       "</g>\n",
       "<!-- 19&#45;&gt;20 -->\n",
       "<g id=\"edge20\" class=\"edge\">\n",
       "<title>19&#45;&gt;20</title>\n",
       "<path fill=\"none\" stroke=\"black\" d=\"M535.17,-103.73C530.1,-95.06 524.75,-85.9 519.65,-77.18\"/>\n",
       "<polygon fill=\"black\" stroke=\"black\" points=\"522.53,-75.17 514.46,-68.3 516.49,-78.7 522.53,-75.17\"/>\n",
       "</g>\n",
       "<!-- 21 -->\n",
       "<g id=\"node22\" class=\"node\">\n",
       "<title>21</title>\n",
       "<polygon fill=\"#39e581\" stroke=\"black\" points=\"678,-68 568,-68 568,0 678,0 678,-68\"/>\n",
       "<text text-anchor=\"middle\" x=\"623\" y=\"-52.8\" font-family=\"Helvetica,sans-Serif\" font-size=\"14.00\">gini = 0.0</text>\n",
       "<text text-anchor=\"middle\" x=\"623\" y=\"-37.8\" font-family=\"Helvetica,sans-Serif\" font-size=\"14.00\">samples = 2</text>\n",
       "<text text-anchor=\"middle\" x=\"623\" y=\"-22.8\" font-family=\"Helvetica,sans-Serif\" font-size=\"14.00\">value = [0, 2, 0]</text>\n",
       "<text text-anchor=\"middle\" x=\"623\" y=\"-7.8\" font-family=\"Helvetica,sans-Serif\" font-size=\"14.00\">class = 1</text>\n",
       "</g>\n",
       "<!-- 19&#45;&gt;21 -->\n",
       "<g id=\"edge21\" class=\"edge\">\n",
       "<title>19&#45;&gt;21</title>\n",
       "<path fill=\"none\" stroke=\"black\" d=\"M582.83,-103.73C587.9,-95.06 593.25,-85.9 598.35,-77.18\"/>\n",
       "<polygon fill=\"black\" stroke=\"black\" points=\"601.51,-78.7 603.54,-68.3 595.47,-75.17 601.51,-78.7\"/>\n",
       "</g>\n",
       "<!-- 23 -->\n",
       "<g id=\"node24\" class=\"node\">\n",
       "<title>23</title>\n",
       "<polygon fill=\"#e58139\" stroke=\"black\" points=\"742,-179.5 632,-179.5 632,-111.5 742,-111.5 742,-179.5\"/>\n",
       "<text text-anchor=\"middle\" x=\"687\" y=\"-164.3\" font-family=\"Helvetica,sans-Serif\" font-size=\"14.00\">gini = 0.0</text>\n",
       "<text text-anchor=\"middle\" x=\"687\" y=\"-149.3\" font-family=\"Helvetica,sans-Serif\" font-size=\"14.00\">samples = 1</text>\n",
       "<text text-anchor=\"middle\" x=\"687\" y=\"-134.3\" font-family=\"Helvetica,sans-Serif\" font-size=\"14.00\">value = [1, 0, 0]</text>\n",
       "<text text-anchor=\"middle\" x=\"687\" y=\"-119.3\" font-family=\"Helvetica,sans-Serif\" font-size=\"14.00\">class = 0</text>\n",
       "</g>\n",
       "<!-- 22&#45;&gt;23 -->\n",
       "<g id=\"edge23\" class=\"edge\">\n",
       "<title>22&#45;&gt;23</title>\n",
       "<path fill=\"none\" stroke=\"black\" d=\"M687,-222.91C687,-212.2 687,-200.62 687,-189.78\"/>\n",
       "<polygon fill=\"black\" stroke=\"black\" points=\"690.5,-189.67 687,-179.67 683.5,-189.67 690.5,-189.67\"/>\n",
       "</g>\n",
       "<!-- 24 -->\n",
       "<g id=\"node25\" class=\"node\">\n",
       "<title>24</title>\n",
       "<polygon fill=\"#8139e5\" stroke=\"black\" points=\"870,-179.5 760,-179.5 760,-111.5 870,-111.5 870,-179.5\"/>\n",
       "<text text-anchor=\"middle\" x=\"815\" y=\"-164.3\" font-family=\"Helvetica,sans-Serif\" font-size=\"14.00\">gini = 0.0</text>\n",
       "<text text-anchor=\"middle\" x=\"815\" y=\"-149.3\" font-family=\"Helvetica,sans-Serif\" font-size=\"14.00\">samples = 1</text>\n",
       "<text text-anchor=\"middle\" x=\"815\" y=\"-134.3\" font-family=\"Helvetica,sans-Serif\" font-size=\"14.00\">value = [0, 0, 1]</text>\n",
       "<text text-anchor=\"middle\" x=\"815\" y=\"-119.3\" font-family=\"Helvetica,sans-Serif\" font-size=\"14.00\">class = 2</text>\n",
       "</g>\n",
       "<!-- 22&#45;&gt;24 -->\n",
       "<g id=\"edge24\" class=\"edge\">\n",
       "<title>22&#45;&gt;24</title>\n",
       "<path fill=\"none\" stroke=\"black\" d=\"M731.41,-222.91C744.33,-211.1 758.42,-198.22 771.29,-186.45\"/>\n",
       "<polygon fill=\"black\" stroke=\"black\" points=\"773.7,-189 778.71,-179.67 768.97,-183.83 773.7,-189\"/>\n",
       "</g>\n",
       "<!-- 27 -->\n",
       "<g id=\"node28\" class=\"node\">\n",
       "<title>27</title>\n",
       "<polygon fill=\"#51e890\" stroke=\"black\" points=\"907.5,-663 790.5,-663 790.5,-580 907.5,-580 907.5,-663\"/>\n",
       "<text text-anchor=\"middle\" x=\"849\" y=\"-647.8\" font-family=\"Helvetica,sans-Serif\" font-size=\"14.00\">x1 &lt;= 0.748</text>\n",
       "<text text-anchor=\"middle\" x=\"849\" y=\"-632.8\" font-family=\"Helvetica,sans-Serif\" font-size=\"14.00\">gini = 0.203</text>\n",
       "<text text-anchor=\"middle\" x=\"849\" y=\"-617.8\" font-family=\"Helvetica,sans-Serif\" font-size=\"14.00\">samples = 27</text>\n",
       "<text text-anchor=\"middle\" x=\"849\" y=\"-602.8\" font-family=\"Helvetica,sans-Serif\" font-size=\"14.00\">value = [2, 24, 1]</text>\n",
       "<text text-anchor=\"middle\" x=\"849\" y=\"-587.8\" font-family=\"Helvetica,sans-Serif\" font-size=\"14.00\">class = 1</text>\n",
       "</g>\n",
       "<!-- 26&#45;&gt;27 -->\n",
       "<g id=\"edge27\" class=\"edge\">\n",
       "<title>26&#45;&gt;27</title>\n",
       "<path fill=\"none\" stroke=\"black\" d=\"M849,-698.91C849,-690.65 849,-681.86 849,-673.3\"/>\n",
       "<polygon fill=\"black\" stroke=\"black\" points=\"852.5,-673.02 849,-663.02 845.5,-673.02 852.5,-673.02\"/>\n",
       "</g>\n",
       "<!-- 38 -->\n",
       "<g id=\"node39\" class=\"node\">\n",
       "<title>38</title>\n",
       "<polygon fill=\"#8139e5\" stroke=\"black\" points=\"1036,-655.5 926,-655.5 926,-587.5 1036,-587.5 1036,-655.5\"/>\n",
       "<text text-anchor=\"middle\" x=\"981\" y=\"-640.3\" font-family=\"Helvetica,sans-Serif\" font-size=\"14.00\">gini = 0.0</text>\n",
       "<text text-anchor=\"middle\" x=\"981\" y=\"-625.3\" font-family=\"Helvetica,sans-Serif\" font-size=\"14.00\">samples = 2</text>\n",
       "<text text-anchor=\"middle\" x=\"981\" y=\"-610.3\" font-family=\"Helvetica,sans-Serif\" font-size=\"14.00\">value = [0, 0, 2]</text>\n",
       "<text text-anchor=\"middle\" x=\"981\" y=\"-595.3\" font-family=\"Helvetica,sans-Serif\" font-size=\"14.00\">class = 2</text>\n",
       "</g>\n",
       "<!-- 26&#45;&gt;38 -->\n",
       "<g id=\"edge38\" class=\"edge\">\n",
       "<title>26&#45;&gt;38</title>\n",
       "<path fill=\"none\" stroke=\"black\" d=\"M894.8,-698.91C908.12,-687.1 922.65,-674.22 935.93,-662.45\"/>\n",
       "<polygon fill=\"black\" stroke=\"black\" points=\"938.42,-664.92 943.58,-655.67 933.78,-659.68 938.42,-664.92\"/>\n",
       "</g>\n",
       "<!-- 28 -->\n",
       "<g id=\"node29\" class=\"node\">\n",
       "<title>28</title>\n",
       "<polygon fill=\"#e58139\" stroke=\"black\" points=\"902,-536.5 792,-536.5 792,-468.5 902,-468.5 902,-536.5\"/>\n",
       "<text text-anchor=\"middle\" x=\"847\" y=\"-521.3\" font-family=\"Helvetica,sans-Serif\" font-size=\"14.00\">gini = 0.0</text>\n",
       "<text text-anchor=\"middle\" x=\"847\" y=\"-506.3\" font-family=\"Helvetica,sans-Serif\" font-size=\"14.00\">samples = 1</text>\n",
       "<text text-anchor=\"middle\" x=\"847\" y=\"-491.3\" font-family=\"Helvetica,sans-Serif\" font-size=\"14.00\">value = [1, 0, 0]</text>\n",
       "<text text-anchor=\"middle\" x=\"847\" y=\"-476.3\" font-family=\"Helvetica,sans-Serif\" font-size=\"14.00\">class = 0</text>\n",
       "</g>\n",
       "<!-- 27&#45;&gt;28 -->\n",
       "<g id=\"edge28\" class=\"edge\">\n",
       "<title>27&#45;&gt;28</title>\n",
       "<path fill=\"none\" stroke=\"black\" d=\"M848.31,-579.91C848.12,-569.2 847.93,-557.62 847.74,-546.78\"/>\n",
       "<polygon fill=\"black\" stroke=\"black\" points=\"851.24,-546.61 847.57,-536.67 844.24,-546.73 851.24,-546.61\"/>\n",
       "</g>\n",
       "<!-- 29 -->\n",
       "<g id=\"node30\" class=\"node\">\n",
       "<title>29</title>\n",
       "<polygon fill=\"#49e78b\" stroke=\"black\" points=\"1037.5,-544 920.5,-544 920.5,-461 1037.5,-461 1037.5,-544\"/>\n",
       "<text text-anchor=\"middle\" x=\"979\" y=\"-528.8\" font-family=\"Helvetica,sans-Serif\" font-size=\"14.00\">x1 &lt;= 0.851</text>\n",
       "<text text-anchor=\"middle\" x=\"979\" y=\"-513.8\" font-family=\"Helvetica,sans-Serif\" font-size=\"14.00\">gini = 0.145</text>\n",
       "<text text-anchor=\"middle\" x=\"979\" y=\"-498.8\" font-family=\"Helvetica,sans-Serif\" font-size=\"14.00\">samples = 26</text>\n",
       "<text text-anchor=\"middle\" x=\"979\" y=\"-483.8\" font-family=\"Helvetica,sans-Serif\" font-size=\"14.00\">value = [1, 24, 1]</text>\n",
       "<text text-anchor=\"middle\" x=\"979\" y=\"-468.8\" font-family=\"Helvetica,sans-Serif\" font-size=\"14.00\">class = 1</text>\n",
       "</g>\n",
       "<!-- 27&#45;&gt;29 -->\n",
       "<g id=\"edge29\" class=\"edge\">\n",
       "<title>27&#45;&gt;29</title>\n",
       "<path fill=\"none\" stroke=\"black\" d=\"M894.1,-579.91C904.49,-570.56 915.62,-560.54 926.3,-550.93\"/>\n",
       "<polygon fill=\"black\" stroke=\"black\" points=\"928.89,-553.31 933.98,-544.02 924.2,-548.11 928.89,-553.31\"/>\n",
       "</g>\n",
       "<!-- 30 -->\n",
       "<g id=\"node31\" class=\"node\">\n",
       "<title>30</title>\n",
       "<polygon fill=\"#7beeab\" stroke=\"black\" points=\"1000,-425 890,-425 890,-342 1000,-342 1000,-425\"/>\n",
       "<text text-anchor=\"middle\" x=\"945\" y=\"-409.8\" font-family=\"Helvetica,sans-Serif\" font-size=\"14.00\">x1 &lt;= 0.818</text>\n",
       "<text text-anchor=\"middle\" x=\"945\" y=\"-394.8\" font-family=\"Helvetica,sans-Serif\" font-size=\"14.00\">gini = 0.375</text>\n",
       "<text text-anchor=\"middle\" x=\"945\" y=\"-379.8\" font-family=\"Helvetica,sans-Serif\" font-size=\"14.00\">samples = 4</text>\n",
       "<text text-anchor=\"middle\" x=\"945\" y=\"-364.8\" font-family=\"Helvetica,sans-Serif\" font-size=\"14.00\">value = [0, 3, 1]</text>\n",
       "<text text-anchor=\"middle\" x=\"945\" y=\"-349.8\" font-family=\"Helvetica,sans-Serif\" font-size=\"14.00\">class = 1</text>\n",
       "</g>\n",
       "<!-- 29&#45;&gt;30 -->\n",
       "<g id=\"edge30\" class=\"edge\">\n",
       "<title>29&#45;&gt;30</title>\n",
       "<path fill=\"none\" stroke=\"black\" d=\"M967.2,-460.91C964.75,-452.47 962.14,-443.48 959.6,-434.74\"/>\n",
       "<polygon fill=\"black\" stroke=\"black\" points=\"962.93,-433.65 956.78,-425.02 956.2,-435.6 962.93,-433.65\"/>\n",
       "</g>\n",
       "<!-- 33 -->\n",
       "<g id=\"node34\" class=\"node\">\n",
       "<title>33</title>\n",
       "<polygon fill=\"#42e687\" stroke=\"black\" points=\"1135.5,-425 1018.5,-425 1018.5,-342 1135.5,-342 1135.5,-425\"/>\n",
       "<text text-anchor=\"middle\" x=\"1077\" y=\"-409.8\" font-family=\"Helvetica,sans-Serif\" font-size=\"14.00\">x1 &lt;= 1.112</text>\n",
       "<text text-anchor=\"middle\" x=\"1077\" y=\"-394.8\" font-family=\"Helvetica,sans-Serif\" font-size=\"14.00\">gini = 0.087</text>\n",
       "<text text-anchor=\"middle\" x=\"1077\" y=\"-379.8\" font-family=\"Helvetica,sans-Serif\" font-size=\"14.00\">samples = 22</text>\n",
       "<text text-anchor=\"middle\" x=\"1077\" y=\"-364.8\" font-family=\"Helvetica,sans-Serif\" font-size=\"14.00\">value = [1, 21, 0]</text>\n",
       "<text text-anchor=\"middle\" x=\"1077\" y=\"-349.8\" font-family=\"Helvetica,sans-Serif\" font-size=\"14.00\">class = 1</text>\n",
       "</g>\n",
       "<!-- 29&#45;&gt;33 -->\n",
       "<g id=\"edge33\" class=\"edge\">\n",
       "<title>29&#45;&gt;33</title>\n",
       "<path fill=\"none\" stroke=\"black\" d=\"M1013,-460.91C1020.6,-451.83 1028.74,-442.12 1036.57,-432.77\"/>\n",
       "<polygon fill=\"black\" stroke=\"black\" points=\"1039.32,-434.93 1043.06,-425.02 1033.96,-430.44 1039.32,-434.93\"/>\n",
       "</g>\n",
       "<!-- 31 -->\n",
       "<g id=\"node32\" class=\"node\">\n",
       "<title>31</title>\n",
       "<polygon fill=\"#39e581\" stroke=\"black\" points=\"872,-298.5 762,-298.5 762,-230.5 872,-230.5 872,-298.5\"/>\n",
       "<text text-anchor=\"middle\" x=\"817\" y=\"-283.3\" font-family=\"Helvetica,sans-Serif\" font-size=\"14.00\">gini = 0.0</text>\n",
       "<text text-anchor=\"middle\" x=\"817\" y=\"-268.3\" font-family=\"Helvetica,sans-Serif\" font-size=\"14.00\">samples = 3</text>\n",
       "<text text-anchor=\"middle\" x=\"817\" y=\"-253.3\" font-family=\"Helvetica,sans-Serif\" font-size=\"14.00\">value = [0, 3, 0]</text>\n",
       "<text text-anchor=\"middle\" x=\"817\" y=\"-238.3\" font-family=\"Helvetica,sans-Serif\" font-size=\"14.00\">class = 1</text>\n",
       "</g>\n",
       "<!-- 30&#45;&gt;31 -->\n",
       "<g id=\"edge31\" class=\"edge\">\n",
       "<title>30&#45;&gt;31</title>\n",
       "<path fill=\"none\" stroke=\"black\" d=\"M900.59,-341.91C887.67,-330.1 873.58,-317.22 860.71,-305.45\"/>\n",
       "<polygon fill=\"black\" stroke=\"black\" points=\"863.03,-302.83 853.29,-298.67 858.3,-308 863.03,-302.83\"/>\n",
       "</g>\n",
       "<!-- 32 -->\n",
       "<g id=\"node33\" class=\"node\">\n",
       "<title>32</title>\n",
       "<polygon fill=\"#8139e5\" stroke=\"black\" points=\"1000,-298.5 890,-298.5 890,-230.5 1000,-230.5 1000,-298.5\"/>\n",
       "<text text-anchor=\"middle\" x=\"945\" y=\"-283.3\" font-family=\"Helvetica,sans-Serif\" font-size=\"14.00\">gini = 0.0</text>\n",
       "<text text-anchor=\"middle\" x=\"945\" y=\"-268.3\" font-family=\"Helvetica,sans-Serif\" font-size=\"14.00\">samples = 1</text>\n",
       "<text text-anchor=\"middle\" x=\"945\" y=\"-253.3\" font-family=\"Helvetica,sans-Serif\" font-size=\"14.00\">value = [0, 0, 1]</text>\n",
       "<text text-anchor=\"middle\" x=\"945\" y=\"-238.3\" font-family=\"Helvetica,sans-Serif\" font-size=\"14.00\">class = 2</text>\n",
       "</g>\n",
       "<!-- 30&#45;&gt;32 -->\n",
       "<g id=\"edge32\" class=\"edge\">\n",
       "<title>30&#45;&gt;32</title>\n",
       "<path fill=\"none\" stroke=\"black\" d=\"M945,-341.91C945,-331.2 945,-319.62 945,-308.78\"/>\n",
       "<polygon fill=\"black\" stroke=\"black\" points=\"948.5,-308.67 945,-298.67 941.5,-308.67 948.5,-308.67\"/>\n",
       "</g>\n",
       "<!-- 34 -->\n",
       "<g id=\"node35\" class=\"node\">\n",
       "<title>34</title>\n",
       "<polygon fill=\"#39e581\" stroke=\"black\" points=\"1135.5,-298.5 1018.5,-298.5 1018.5,-230.5 1135.5,-230.5 1135.5,-298.5\"/>\n",
       "<text text-anchor=\"middle\" x=\"1077\" y=\"-283.3\" font-family=\"Helvetica,sans-Serif\" font-size=\"14.00\">gini = 0.0</text>\n",
       "<text text-anchor=\"middle\" x=\"1077\" y=\"-268.3\" font-family=\"Helvetica,sans-Serif\" font-size=\"14.00\">samples = 15</text>\n",
       "<text text-anchor=\"middle\" x=\"1077\" y=\"-253.3\" font-family=\"Helvetica,sans-Serif\" font-size=\"14.00\">value = [0, 15, 0]</text>\n",
       "<text text-anchor=\"middle\" x=\"1077\" y=\"-238.3\" font-family=\"Helvetica,sans-Serif\" font-size=\"14.00\">class = 1</text>\n",
       "</g>\n",
       "<!-- 33&#45;&gt;34 -->\n",
       "<g id=\"edge34\" class=\"edge\">\n",
       "<title>33&#45;&gt;34</title>\n",
       "<path fill=\"none\" stroke=\"black\" d=\"M1077,-341.91C1077,-331.2 1077,-319.62 1077,-308.78\"/>\n",
       "<polygon fill=\"black\" stroke=\"black\" points=\"1080.5,-308.67 1077,-298.67 1073.5,-308.67 1080.5,-308.67\"/>\n",
       "</g>\n",
       "<!-- 35 -->\n",
       "<g id=\"node36\" class=\"node\">\n",
       "<title>35</title>\n",
       "<polygon fill=\"#5ae996\" stroke=\"black\" points=\"1264,-306 1154,-306 1154,-223 1264,-223 1264,-306\"/>\n",
       "<text text-anchor=\"middle\" x=\"1209\" y=\"-290.8\" font-family=\"Helvetica,sans-Serif\" font-size=\"14.00\">x1 &lt;= 1.121</text>\n",
       "<text text-anchor=\"middle\" x=\"1209\" y=\"-275.8\" font-family=\"Helvetica,sans-Serif\" font-size=\"14.00\">gini = 0.245</text>\n",
       "<text text-anchor=\"middle\" x=\"1209\" y=\"-260.8\" font-family=\"Helvetica,sans-Serif\" font-size=\"14.00\">samples = 7</text>\n",
       "<text text-anchor=\"middle\" x=\"1209\" y=\"-245.8\" font-family=\"Helvetica,sans-Serif\" font-size=\"14.00\">value = [1, 6, 0]</text>\n",
       "<text text-anchor=\"middle\" x=\"1209\" y=\"-230.8\" font-family=\"Helvetica,sans-Serif\" font-size=\"14.00\">class = 1</text>\n",
       "</g>\n",
       "<!-- 33&#45;&gt;35 -->\n",
       "<g id=\"edge35\" class=\"edge\">\n",
       "<title>33&#45;&gt;35</title>\n",
       "<path fill=\"none\" stroke=\"black\" d=\"M1122.8,-341.91C1133.34,-332.56 1144.65,-322.54 1155.49,-312.93\"/>\n",
       "<polygon fill=\"black\" stroke=\"black\" points=\"1158.12,-315.27 1163.28,-306.02 1153.48,-310.03 1158.12,-315.27\"/>\n",
       "</g>\n",
       "<!-- 36 -->\n",
       "<g id=\"node37\" class=\"node\">\n",
       "<title>36</title>\n",
       "<polygon fill=\"#e58139\" stroke=\"black\" points=\"1200,-179.5 1090,-179.5 1090,-111.5 1200,-111.5 1200,-179.5\"/>\n",
       "<text text-anchor=\"middle\" x=\"1145\" y=\"-164.3\" font-family=\"Helvetica,sans-Serif\" font-size=\"14.00\">gini = 0.0</text>\n",
       "<text text-anchor=\"middle\" x=\"1145\" y=\"-149.3\" font-family=\"Helvetica,sans-Serif\" font-size=\"14.00\">samples = 1</text>\n",
       "<text text-anchor=\"middle\" x=\"1145\" y=\"-134.3\" font-family=\"Helvetica,sans-Serif\" font-size=\"14.00\">value = [1, 0, 0]</text>\n",
       "<text text-anchor=\"middle\" x=\"1145\" y=\"-119.3\" font-family=\"Helvetica,sans-Serif\" font-size=\"14.00\">class = 0</text>\n",
       "</g>\n",
       "<!-- 35&#45;&gt;36 -->\n",
       "<g id=\"edge36\" class=\"edge\">\n",
       "<title>35&#45;&gt;36</title>\n",
       "<path fill=\"none\" stroke=\"black\" d=\"M1186.8,-222.91C1180.76,-211.87 1174.21,-199.9 1168.12,-188.77\"/>\n",
       "<polygon fill=\"black\" stroke=\"black\" points=\"1171.01,-186.76 1163.14,-179.67 1164.87,-190.12 1171.01,-186.76\"/>\n",
       "</g>\n",
       "<!-- 37 -->\n",
       "<g id=\"node38\" class=\"node\">\n",
       "<title>37</title>\n",
       "<polygon fill=\"#39e581\" stroke=\"black\" points=\"1328,-179.5 1218,-179.5 1218,-111.5 1328,-111.5 1328,-179.5\"/>\n",
       "<text text-anchor=\"middle\" x=\"1273\" y=\"-164.3\" font-family=\"Helvetica,sans-Serif\" font-size=\"14.00\">gini = 0.0</text>\n",
       "<text text-anchor=\"middle\" x=\"1273\" y=\"-149.3\" font-family=\"Helvetica,sans-Serif\" font-size=\"14.00\">samples = 6</text>\n",
       "<text text-anchor=\"middle\" x=\"1273\" y=\"-134.3\" font-family=\"Helvetica,sans-Serif\" font-size=\"14.00\">value = [0, 6, 0]</text>\n",
       "<text text-anchor=\"middle\" x=\"1273\" y=\"-119.3\" font-family=\"Helvetica,sans-Serif\" font-size=\"14.00\">class = 1</text>\n",
       "</g>\n",
       "<!-- 35&#45;&gt;37 -->\n",
       "<g id=\"edge37\" class=\"edge\">\n",
       "<title>35&#45;&gt;37</title>\n",
       "<path fill=\"none\" stroke=\"black\" d=\"M1231.2,-222.91C1237.24,-211.87 1243.79,-199.9 1249.88,-188.77\"/>\n",
       "<polygon fill=\"black\" stroke=\"black\" points=\"1253.13,-190.12 1254.86,-179.67 1246.99,-186.76 1253.13,-190.12\"/>\n",
       "</g>\n",
       "</g>\n",
       "</svg>\n"
      ],
      "text/plain": [
       "<graphviz.sources.Source at 0x7aabc05cb790>"
      ]
     },
     "execution_count": 17,
     "metadata": {},
     "output_type": "execute_result"
    }
   ],
   "source": [
    "export_graphviz(dt_clf, out_file=\"tree.dot\", class_names=[\"0\", \"1\", \"2\"], feature_names=[\"x1\", \"x2\"], impurity=True, filled=True)\n",
    "# 위에서 생성된 tree.dot 파일을 Graphviz 읽어서 Jupyter Notebook상에서 시각화\n",
    "with open(\"tree.dot\") as f:\n",
    "    dot_graph = f.read()\n",
    "graphviz.Source(dot_graph)"
   ]
  },
  {
   "cell_type": "markdown",
   "metadata": {
    "id": "BBmB7qf7ShFt"
   },
   "source": [
    "# max_depth 조절하기"
   ]
  },
  {
   "cell_type": "code",
   "execution_count": 18,
   "metadata": {
    "colab": {
     "base_uri": "https://localhost:8080/",
     "height": 406
    },
    "executionInfo": {
     "elapsed": 411,
     "status": "ok",
     "timestamp": 1695629975675,
     "user": {
      "displayName": "SY Lee",
      "userId": "15634914583474319987"
     },
     "user_tz": -540
    },
    "id": "U3CY589tSjQS",
    "outputId": "2b0e33fa-d0e4-4091-d8d5-4fd2101855d5"
   },
   "outputs": [
    {
     "data": {
      "image/png": "[encoded data removed]",
      "text/plain": [
       "<Figure size 640x480 with 1 Axes>"
      ]
     },
     "metadata": {},
     "output_type": "display_data"
    }
   ],
   "source": [
    "# 나무의 최대 깊이를 1로 설정\n",
    "dt_clf = DecisionTreeClassifier(max_depth=1).fit(X_features, y_labels)\n",
    "visualize_boundary(dt_clf, X_features, y_labels)"
   ]
  },
  {
   "cell_type": "code",
   "execution_count": 19,
   "metadata": {
    "colab": {
     "base_uri": "https://localhost:8080/",
     "height": 280
    },
    "executionInfo": {
     "elapsed": 300,
     "status": "ok",
     "timestamp": 1695629988682,
     "user": {
      "displayName": "SY Lee",
      "userId": "15634914583474319987"
     },
     "user_tz": -540
    },
    "id": "ikjw0QSCbDD-",
    "outputId": "335e15e0-2bed-452c-e903-342475714fd7"
   },
   "outputs": [
    {
     "data": {
      "image/svg+xml": [
       "<?xml version=\"1.0\" encoding=\"UTF-8\" standalone=\"no\"?>\n",
       "<!DOCTYPE svg PUBLIC \"-//W3C//DTD SVG 1.1//EN\"\n",
       " \"http://www.w3.org/Graphics/SVG/1.1/DTD/svg11.dtd\">\n",
       "<!-- Generated by graphviz version 2.43.0 (0)\n",
       " -->\n",
       "<!-- Title: Tree Pages: 1 -->\n",
       "<svg width=\"268pt\" height=\"195pt\"\n",
       " viewBox=\"0.00 0.00 268.00 195.00\" xmlns=\"http://www.w3.org/2000/svg\" xmlns:xlink=\"http://www.w3.org/1999/xlink\">\n",
       "<g id=\"graph0\" class=\"graph\" transform=\"scale(1 1) rotate(0) translate(4 191)\">\n",
       "<title>Tree</title>\n",
       "<polygon fill=\"white\" stroke=\"transparent\" points=\"-4,4 -4,-191 264,-191 264,4 -4,4\"/>\n",
       "<!-- 0 -->\n",
       "<g id=\"node1\" class=\"node\">\n",
       "<title>0</title>\n",
       "<polygon fill=\"#fffdfc\" stroke=\"black\" points=\"193.5,-187 61.5,-187 61.5,-104 193.5,-104 193.5,-187\"/>\n",
       "<text text-anchor=\"middle\" x=\"127.5\" y=\"-171.8\" font-family=\"Helvetica,sans-Serif\" font-size=\"14.00\">x1 &lt;= 0.192</text>\n",
       "<text text-anchor=\"middle\" x=\"127.5\" y=\"-156.8\" font-family=\"Helvetica,sans-Serif\" font-size=\"14.00\">gini = 0.667</text>\n",
       "<text text-anchor=\"middle\" x=\"127.5\" y=\"-141.8\" font-family=\"Helvetica,sans-Serif\" font-size=\"14.00\">samples = 100</text>\n",
       "<text text-anchor=\"middle\" x=\"127.5\" y=\"-126.8\" font-family=\"Helvetica,sans-Serif\" font-size=\"14.00\">value = [34, 33, 33]</text>\n",
       "<text text-anchor=\"middle\" x=\"127.5\" y=\"-111.8\" font-family=\"Helvetica,sans-Serif\" font-size=\"14.00\">class = 0</text>\n",
       "</g>\n",
       "<!-- 1 -->\n",
       "<g id=\"node2\" class=\"node\">\n",
       "<title>1</title>\n",
       "<polygon fill=\"#eda672\" stroke=\"black\" points=\"117,-68 0,-68 0,0 117,0 117,-68\"/>\n",
       "<text text-anchor=\"middle\" x=\"58.5\" y=\"-52.8\" font-family=\"Helvetica,sans-Serif\" font-size=\"14.00\">gini = 0.349</text>\n",
       "<text text-anchor=\"middle\" x=\"58.5\" y=\"-37.8\" font-family=\"Helvetica,sans-Serif\" font-size=\"14.00\">samples = 40</text>\n",
       "<text text-anchor=\"middle\" x=\"58.5\" y=\"-22.8\" font-family=\"Helvetica,sans-Serif\" font-size=\"14.00\">value = [31, 0, 9]</text>\n",
       "<text text-anchor=\"middle\" x=\"58.5\" y=\"-7.8\" font-family=\"Helvetica,sans-Serif\" font-size=\"14.00\">class = 0</text>\n",
       "</g>\n",
       "<!-- 0&#45;&gt;1 -->\n",
       "<g id=\"edge1\" class=\"edge\">\n",
       "<title>0&#45;&gt;1</title>\n",
       "<path fill=\"none\" stroke=\"black\" d=\"M101.81,-103.73C96.29,-94.97 90.45,-85.7 84.91,-76.91\"/>\n",
       "<polygon fill=\"black\" stroke=\"black\" points=\"87.78,-74.89 79.48,-68.3 81.85,-78.63 87.78,-74.89\"/>\n",
       "<text text-anchor=\"middle\" x=\"73.95\" y=\"-88.98\" font-family=\"Helvetica,sans-Serif\" font-size=\"14.00\">True</text>\n",
       "</g>\n",
       "<!-- 2 -->\n",
       "<g id=\"node3\" class=\"node\">\n",
       "<title>2</title>\n",
       "<polygon fill=\"#cef8e0\" stroke=\"black\" points=\"260,-68 135,-68 135,0 260,0 260,-68\"/>\n",
       "<text text-anchor=\"middle\" x=\"197.5\" y=\"-52.8\" font-family=\"Helvetica,sans-Serif\" font-size=\"14.00\">gini = 0.535</text>\n",
       "<text text-anchor=\"middle\" x=\"197.5\" y=\"-37.8\" font-family=\"Helvetica,sans-Serif\" font-size=\"14.00\">samples = 60</text>\n",
       "<text text-anchor=\"middle\" x=\"197.5\" y=\"-22.8\" font-family=\"Helvetica,sans-Serif\" font-size=\"14.00\">value = [3, 33, 24]</text>\n",
       "<text text-anchor=\"middle\" x=\"197.5\" y=\"-7.8\" font-family=\"Helvetica,sans-Serif\" font-size=\"14.00\">class = 1</text>\n",
       "</g>\n",
       "<!-- 0&#45;&gt;2 -->\n",
       "<g id=\"edge2\" class=\"edge\">\n",
       "<title>0&#45;&gt;2</title>\n",
       "<path fill=\"none\" stroke=\"black\" d=\"M153.57,-103.73C159.16,-94.97 165.09,-85.7 170.71,-76.91\"/>\n",
       "<polygon fill=\"black\" stroke=\"black\" points=\"173.78,-78.61 176.21,-68.3 167.88,-74.84 173.78,-78.61\"/>\n",
       "<text text-anchor=\"middle\" x=\"181.59\" y=\"-89.02\" font-family=\"Helvetica,sans-Serif\" font-size=\"14.00\">False</text>\n",
       "</g>\n",
       "</g>\n",
       "</svg>\n"
      ],
      "text/plain": [
       "<graphviz.sources.Source at 0x7aabc0573700>"
      ]
     },
     "execution_count": 19,
     "metadata": {},
     "output_type": "execute_result"
    }
   ],
   "source": [
    "export_graphviz(dt_clf, out_file=\"tree.dot\", class_names=[\"0\", \"1\", \"2\"], feature_names=[\"x1\", \"x2\"], impurity=True, filled=True)\n",
    "# 위에서 생성된 tree.dot 파일을 Graphviz 읽어서 Jupyter Notebook상에서 시각화\n",
    "with open(\"tree.dot\") as f:\n",
    "    dot_graph = f.read()\n",
    "graphviz.Source(dot_graph)"
   ]
  },
  {
   "cell_type": "code",
   "execution_count": 20,
   "metadata": {
    "colab": {
     "base_uri": "https://localhost:8080/",
     "height": 406
    },
    "executionInfo": {
     "elapsed": 839,
     "status": "ok",
     "timestamp": 1695630007664,
     "user": {
      "displayName": "SY Lee",
      "userId": "15634914583474319987"
     },
     "user_tz": -540
    },
    "id": "BBHoHnj7bGqk",
    "outputId": "8769c0d0-6b1e-46a6-9588-65b04a51f13a"
   },
   "outputs": [
    {
     "data": {
      "image/png": "[encoded data removed]",
      "text/plain": [
       "<Figure size 640x480 with 1 Axes>"
      ]
     },
     "metadata": {},
     "output_type": "display_data"
    }
   ],
   "source": [
    "# 나무의 최대 깊이를 2로 설정\n",
    "dt_clf = DecisionTreeClassifier(max_depth=2).fit(X_features, y_labels)\n",
    "visualize_boundary(dt_clf, X_features, y_labels)"
   ]
  },
  {
   "cell_type": "markdown",
   "metadata": {
    "id": "cdbFfRU1TJMp"
   },
   "source": [
    "# 특성 중요도\n",
    "- 어느 특성이 노드의 균일함에 많이 기여 했는가"
   ]
  },
  {
   "cell_type": "code",
   "execution_count": 12,
   "metadata": {
    "colab": {
     "base_uri": "https://localhost:8080/"
    },
    "executionInfo": {
     "elapsed": 284,
     "status": "ok",
     "timestamp": 1695628009234,
     "user": {
      "displayName": "SY Lee",
      "userId": "15634914583474319987"
     },
     "user_tz": -540
    },
    "id": "RvSQA3HBTK4S",
    "outputId": "f31dac3b-bccc-4656-f1d3-ba95be8b7741"
   },
   "outputs": [
    {
     "data": {
      "text/plain": [
       "array([0.01667014, 0.        , 0.56323788, 0.42009198])"
      ]
     },
     "execution_count": 12,
     "metadata": {},
     "output_type": "execute_result"
    }
   ],
   "source": [
    "dt_clf_iris = DecisionTreeClassifier().fit(X_train, y_train)\n",
    "dt_clf_iris.feature_importances_"
   ]
  },
  {
   "cell_type": "code",
   "execution_count": 13,
   "metadata": {
    "colab": {
     "base_uri": "https://localhost:8080/",
     "height": 494
    },
    "executionInfo": {
     "elapsed": 1702,
     "status": "ok",
     "timestamp": 1695628081267,
     "user": {
      "displayName": "SY Lee",
      "userId": "15634914583474319987"
     },
     "user_tz": -540
    },
    "id": "0f1Uz7EVThsR",
    "outputId": "f1fe6ea6-05e5-41df-f503-66764fd02c47"
   },
   "outputs": [
    {
     "data": {
      "image/png": "[encoded data removed]",
      "text/plain": [
       "<Figure size 800x600 with 1 Axes>"
      ]
     },
     "metadata": {},
     "output_type": "display_data"
    }
   ],
   "source": [
    "import pandas as pd\n",
    "def plot_feature_importance(model, columns, limit=None):\n",
    "  import seaborn as sns\n",
    "\n",
    "  ftr_importances_values = model.feature_importances_\n",
    "  # Top 중요도로 정렬을 쉽게 하고, 시본(Seaborn)의 막대그래프로 쉽게 표현하기 위해 Series변환\n",
    "  ftr_importances = pd.Series(ftr_importances_values, index=columns  )\n",
    "  # 중요도값 순으로 Series를 정렬\n",
    "  ftr_top = ftr_importances.sort_values(ascending=False)[:limit]\n",
    "  plt.figure(figsize=(8,6))\n",
    "  plt.title(f'Feature importances Top {len(columns) if limit == None else limit}')\n",
    "  sns.barplot(x=ftr_top , y = ftr_top.index)\n",
    "  plt.show()\n",
    "\n",
    "plot_feature_importance(dt_clf_iris, iris_data.feature_names)"
   ]
  },
  {
   "cell_type": "code",
   "execution_count": null,
   "metadata": {
    "id": "NRq6XzANTy7p"
   },
   "outputs": [],
   "source": []
  }
 ],
 "metadata": {
  "colab": {
   "authorship_tag": "ABX9TyOj4+/M7wSVFYXStUIxELXc",
   "provenance": []
  },
  "kernelspec": {
   "display_name": "Python 3 (ipykernel)",
   "language": "python",
   "name": "python3"
  },
  "language_info": {
   "codemirror_mode": {
    "name": "ipython",
    "version": 3
   },
   "file_extension": ".py",
   "mimetype": "text/x-python",
   "name": "python",
   "nbconvert_exporter": "python",
   "pygments_lexer": "ipython3",
   "version": "3.11.4"
  }
 },
 "nbformat": 4,
 "nbformat_minor": 4
}
